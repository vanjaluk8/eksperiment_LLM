{
 "cells": [
  {
   "cell_type": "code",
   "id": "initial_id",
   "metadata": {
    "collapsed": true,
    "ExecuteTime": {
     "end_time": "2025-07-26T20:25:23.932671Z",
     "start_time": "2025-07-26T20:25:23.885578Z"
    }
   },
   "source": [
    "# UČITAVANJE REZULTATA\n",
    "# Prilagodi imena CSV-ova!\n",
    "import pandas as pd\n",
    "\n",
    "df1 = pd.read_csv(\"prompts_single/1_prompt_test_results.csv\")\n",
    "df2 = pd.read_csv(\"prompts_single/2_chat_test_results.csv\")\n",
    "df3 = pd.read_csv(\"prompts_single/3_summarize_test_results.csv\")\n",
    "df4 = pd.read_csv(\"prompts_single/4_batch_test_results.csv\")\n",
    "\n",
    "user_df = pd.concat([df1, df2, df3, df4], ignore_index=True)\n",
    "\n",
    "dfa = pd.read_csv(\"locust/1_locust_prompt_test_results.csv\")\n",
    "dfb = pd.read_csv(\"locust/2_locust_chat_test_results.csv\")\n",
    "dfc = pd.read_csv(\"locust/3_locust_summarize_test_results.csv\")\n",
    "dfd = pd.read_csv(\"locust/4_locust_batch_test_results.csv\")\n",
    "\n",
    "\n",
    "locust_df = pd.concat([dfa, dfb, dfc, dfd], ignore_index=True)   # Pretpostavi ime datoteke\n",
    "\n",
    "user_df['test_type'] = 'client'\n",
    "locust_df['test_type'] = 'stress'\n",
    "\n",
    "# join user_df and locust_df\n",
    "df = pd.concat([user_df, locust_df], ignore_index=True)\n",
    "\n",
    "\n",
    "\n",
    "df.head(1)\n",
    "#df.groupby(['model', 'test_type', 'test_name']).size()"
   ],
   "outputs": [
    {
     "data": {
      "text/plain": [
       "                    timestamp test_name  prompt_index   model  \\\n",
       "0  2025-07-25 19:04:05.030325    single             0  gemma3   \n",
       "\n",
       "                                              prompt       ttft      tpot  \\\n",
       "0  What are the main steps involved in website op...  55.836664  0.404772   \n",
       "\n",
       "   tokens_per_sec    latency  prompt_tokens  output_tokens  \\\n",
       "0        2.470524  55.858593           10.0            138   \n",
       "\n",
       "                                         output_text  status_code test_type  \n",
       "0  What are the main steps involved in website op...          200    client  "
      ],
      "text/html": [
       "<div>\n",
       "<style scoped>\n",
       "    .dataframe tbody tr th:only-of-type {\n",
       "        vertical-align: middle;\n",
       "    }\n",
       "\n",
       "    .dataframe tbody tr th {\n",
       "        vertical-align: top;\n",
       "    }\n",
       "\n",
       "    .dataframe thead th {\n",
       "        text-align: right;\n",
       "    }\n",
       "</style>\n",
       "<table border=\"1\" class=\"dataframe\">\n",
       "  <thead>\n",
       "    <tr style=\"text-align: right;\">\n",
       "      <th></th>\n",
       "      <th>timestamp</th>\n",
       "      <th>test_name</th>\n",
       "      <th>prompt_index</th>\n",
       "      <th>model</th>\n",
       "      <th>prompt</th>\n",
       "      <th>ttft</th>\n",
       "      <th>tpot</th>\n",
       "      <th>tokens_per_sec</th>\n",
       "      <th>latency</th>\n",
       "      <th>prompt_tokens</th>\n",
       "      <th>output_tokens</th>\n",
       "      <th>output_text</th>\n",
       "      <th>status_code</th>\n",
       "      <th>test_type</th>\n",
       "    </tr>\n",
       "  </thead>\n",
       "  <tbody>\n",
       "    <tr>\n",
       "      <th>0</th>\n",
       "      <td>2025-07-25 19:04:05.030325</td>\n",
       "      <td>single</td>\n",
       "      <td>0</td>\n",
       "      <td>gemma3</td>\n",
       "      <td>What are the main steps involved in website op...</td>\n",
       "      <td>55.836664</td>\n",
       "      <td>0.404772</td>\n",
       "      <td>2.470524</td>\n",
       "      <td>55.858593</td>\n",
       "      <td>10.0</td>\n",
       "      <td>138</td>\n",
       "      <td>What are the main steps involved in website op...</td>\n",
       "      <td>200</td>\n",
       "      <td>client</td>\n",
       "    </tr>\n",
       "  </tbody>\n",
       "</table>\n",
       "</div>"
      ]
     },
     "execution_count": 2,
     "metadata": {},
     "output_type": "execute_result"
    }
   ],
   "execution_count": 2
  },
  {
   "metadata": {
    "ExecuteTime": {
     "end_time": "2025-07-26T20:25:55.159215Z",
     "start_time": "2025-07-26T20:25:55.126458Z"
    }
   },
   "cell_type": "code",
   "source": [
    "import matplotlib.pyplot as plt\n",
    "import seaborn as sns\n",
    "\n",
    "# Prikaz osnovne tablice željenih metrika\n",
    "important_cols = ['model', 'test_name', 'test_type', 'ttft', 'tpot', 'tokens_per_sec', 'latency']\n",
    "\n",
    "# Create the summary DataFrame globally\n",
    "summary = df.groupby(['model', 'test_name', 'test_type']).agg({\n",
    "    'ttft': 'mean',\n",
    "    'tpot': 'mean',\n",
    "    'tokens_per_sec': 'mean',\n",
    "    'latency': 'mean'\n",
    "}).reset_index()\n",
    "def summary_statistics(df, model, test_type):\n",
    "    # Filter by model if provided\n",
    "    if model is not None:\n",
    "        df = df[df['model'] == model]\n",
    "    if test_type is not None:\n",
    "        df = df[df['test_type'] == test_type]\n",
    "    # Group and aggregate\n",
    "    summary = df.groupby(['model', 'test_name', 'test_type']).agg({\n",
    "        'ttft': 'mean',\n",
    "        'tpot': 'mean',\n",
    "        'tokens_per_sec': 'mean',\n",
    "        'latency': 'mean'\n",
    "    }).reset_index()\n",
    "    display(summary)\n",
    "\n",
    "models = df.model.unique()\n",
    "test_types = df.test_type.unique()\n",
    "\n",
    "for model in models:\n",
    "    for ttype in test_types:\n",
    "        summary_statistics(df, model, ttype)\n",
    "\n",
    "stress_summary = summary[summary['test_type'] == 'stress']\n",
    "\n"
   ],
   "id": "b92654838adfe954",
   "outputs": [
    {
     "data": {
      "text/plain": [
       "    model   test_name test_type       ttft      tpot  tokens_per_sec  \\\n",
       "0  gemma3       batch    client  32.924711  0.274354       33.526797   \n",
       "1  gemma3        chat    client  12.596248  0.032227       80.520446   \n",
       "2  gemma3      single    client   2.613840  0.019406       73.821850   \n",
       "3  gemma3  summarizer    client  36.874386  0.003013      331.840331   \n",
       "\n",
       "     latency  \n",
       "0  32.931255  \n",
       "1  12.604553  \n",
       "2   2.622749  \n",
       "3  36.879182  "
      ],
      "text/html": [
       "<div>\n",
       "<style scoped>\n",
       "    .dataframe tbody tr th:only-of-type {\n",
       "        vertical-align: middle;\n",
       "    }\n",
       "\n",
       "    .dataframe tbody tr th {\n",
       "        vertical-align: top;\n",
       "    }\n",
       "\n",
       "    .dataframe thead th {\n",
       "        text-align: right;\n",
       "    }\n",
       "</style>\n",
       "<table border=\"1\" class=\"dataframe\">\n",
       "  <thead>\n",
       "    <tr style=\"text-align: right;\">\n",
       "      <th></th>\n",
       "      <th>model</th>\n",
       "      <th>test_name</th>\n",
       "      <th>test_type</th>\n",
       "      <th>ttft</th>\n",
       "      <th>tpot</th>\n",
       "      <th>tokens_per_sec</th>\n",
       "      <th>latency</th>\n",
       "    </tr>\n",
       "  </thead>\n",
       "  <tbody>\n",
       "    <tr>\n",
       "      <th>0</th>\n",
       "      <td>gemma3</td>\n",
       "      <td>batch</td>\n",
       "      <td>client</td>\n",
       "      <td>32.924711</td>\n",
       "      <td>0.274354</td>\n",
       "      <td>33.526797</td>\n",
       "      <td>32.931255</td>\n",
       "    </tr>\n",
       "    <tr>\n",
       "      <th>1</th>\n",
       "      <td>gemma3</td>\n",
       "      <td>chat</td>\n",
       "      <td>client</td>\n",
       "      <td>12.596248</td>\n",
       "      <td>0.032227</td>\n",
       "      <td>80.520446</td>\n",
       "      <td>12.604553</td>\n",
       "    </tr>\n",
       "    <tr>\n",
       "      <th>2</th>\n",
       "      <td>gemma3</td>\n",
       "      <td>single</td>\n",
       "      <td>client</td>\n",
       "      <td>2.613840</td>\n",
       "      <td>0.019406</td>\n",
       "      <td>73.821850</td>\n",
       "      <td>2.622749</td>\n",
       "    </tr>\n",
       "    <tr>\n",
       "      <th>3</th>\n",
       "      <td>gemma3</td>\n",
       "      <td>summarizer</td>\n",
       "      <td>client</td>\n",
       "      <td>36.874386</td>\n",
       "      <td>0.003013</td>\n",
       "      <td>331.840331</td>\n",
       "      <td>36.879182</td>\n",
       "    </tr>\n",
       "  </tbody>\n",
       "</table>\n",
       "</div>"
      ]
     },
     "metadata": {},
     "output_type": "display_data"
    },
    {
     "data": {
      "text/plain": [
       "Empty DataFrame\n",
       "Columns: [model, test_name, test_type, ttft, tpot, tokens_per_sec, latency]\n",
       "Index: []"
      ],
      "text/html": [
       "<div>\n",
       "<style scoped>\n",
       "    .dataframe tbody tr th:only-of-type {\n",
       "        vertical-align: middle;\n",
       "    }\n",
       "\n",
       "    .dataframe tbody tr th {\n",
       "        vertical-align: top;\n",
       "    }\n",
       "\n",
       "    .dataframe thead th {\n",
       "        text-align: right;\n",
       "    }\n",
       "</style>\n",
       "<table border=\"1\" class=\"dataframe\">\n",
       "  <thead>\n",
       "    <tr style=\"text-align: right;\">\n",
       "      <th></th>\n",
       "      <th>model</th>\n",
       "      <th>test_name</th>\n",
       "      <th>test_type</th>\n",
       "      <th>ttft</th>\n",
       "      <th>tpot</th>\n",
       "      <th>tokens_per_sec</th>\n",
       "      <th>latency</th>\n",
       "    </tr>\n",
       "  </thead>\n",
       "  <tbody>\n",
       "  </tbody>\n",
       "</table>\n",
       "</div>"
      ]
     },
     "metadata": {},
     "output_type": "display_data"
    },
    {
     "data": {
      "text/plain": [
       "     model   test_name test_type      ttft      tpot  tokens_per_sec   latency\n",
       "0  mistral       batch    client  3.258612  0.030278       39.413906  3.265610\n",
       "1  mistral        chat    client  2.444772  0.011133      117.591474  2.453659\n",
       "2  mistral      single    client  2.494786  0.018473       55.283599  2.503928\n",
       "3  mistral  summarizer    client  3.380951  0.000239     4178.252221  3.390652"
      ],
      "text/html": [
       "<div>\n",
       "<style scoped>\n",
       "    .dataframe tbody tr th:only-of-type {\n",
       "        vertical-align: middle;\n",
       "    }\n",
       "\n",
       "    .dataframe tbody tr th {\n",
       "        vertical-align: top;\n",
       "    }\n",
       "\n",
       "    .dataframe thead th {\n",
       "        text-align: right;\n",
       "    }\n",
       "</style>\n",
       "<table border=\"1\" class=\"dataframe\">\n",
       "  <thead>\n",
       "    <tr style=\"text-align: right;\">\n",
       "      <th></th>\n",
       "      <th>model</th>\n",
       "      <th>test_name</th>\n",
       "      <th>test_type</th>\n",
       "      <th>ttft</th>\n",
       "      <th>tpot</th>\n",
       "      <th>tokens_per_sec</th>\n",
       "      <th>latency</th>\n",
       "    </tr>\n",
       "  </thead>\n",
       "  <tbody>\n",
       "    <tr>\n",
       "      <th>0</th>\n",
       "      <td>mistral</td>\n",
       "      <td>batch</td>\n",
       "      <td>client</td>\n",
       "      <td>3.258612</td>\n",
       "      <td>0.030278</td>\n",
       "      <td>39.413906</td>\n",
       "      <td>3.265610</td>\n",
       "    </tr>\n",
       "    <tr>\n",
       "      <th>1</th>\n",
       "      <td>mistral</td>\n",
       "      <td>chat</td>\n",
       "      <td>client</td>\n",
       "      <td>2.444772</td>\n",
       "      <td>0.011133</td>\n",
       "      <td>117.591474</td>\n",
       "      <td>2.453659</td>\n",
       "    </tr>\n",
       "    <tr>\n",
       "      <th>2</th>\n",
       "      <td>mistral</td>\n",
       "      <td>single</td>\n",
       "      <td>client</td>\n",
       "      <td>2.494786</td>\n",
       "      <td>0.018473</td>\n",
       "      <td>55.283599</td>\n",
       "      <td>2.503928</td>\n",
       "    </tr>\n",
       "    <tr>\n",
       "      <th>3</th>\n",
       "      <td>mistral</td>\n",
       "      <td>summarizer</td>\n",
       "      <td>client</td>\n",
       "      <td>3.380951</td>\n",
       "      <td>0.000239</td>\n",
       "      <td>4178.252221</td>\n",
       "      <td>3.390652</td>\n",
       "    </tr>\n",
       "  </tbody>\n",
       "</table>\n",
       "</div>"
      ]
     },
     "metadata": {},
     "output_type": "display_data"
    },
    {
     "data": {
      "text/plain": [
       "     model   test_name test_type        ttft      tpot  tokens_per_sec  \\\n",
       "0  mistral       batch    stress   17.943860  0.154018        7.717003   \n",
       "1  mistral        chat    stress  129.762687  0.166773       12.351301   \n",
       "2  mistral      single    stress   44.300852  0.346041        4.747352   \n",
       "3  mistral  summarizer    stress   41.940555  0.002994      501.051288   \n",
       "\n",
       "      latency  \n",
       "0   17.953130  \n",
       "1  129.803901  \n",
       "2   44.314730  \n",
       "3   41.953826  "
      ],
      "text/html": [
       "<div>\n",
       "<style scoped>\n",
       "    .dataframe tbody tr th:only-of-type {\n",
       "        vertical-align: middle;\n",
       "    }\n",
       "\n",
       "    .dataframe tbody tr th {\n",
       "        vertical-align: top;\n",
       "    }\n",
       "\n",
       "    .dataframe thead th {\n",
       "        text-align: right;\n",
       "    }\n",
       "</style>\n",
       "<table border=\"1\" class=\"dataframe\">\n",
       "  <thead>\n",
       "    <tr style=\"text-align: right;\">\n",
       "      <th></th>\n",
       "      <th>model</th>\n",
       "      <th>test_name</th>\n",
       "      <th>test_type</th>\n",
       "      <th>ttft</th>\n",
       "      <th>tpot</th>\n",
       "      <th>tokens_per_sec</th>\n",
       "      <th>latency</th>\n",
       "    </tr>\n",
       "  </thead>\n",
       "  <tbody>\n",
       "    <tr>\n",
       "      <th>0</th>\n",
       "      <td>mistral</td>\n",
       "      <td>batch</td>\n",
       "      <td>stress</td>\n",
       "      <td>17.943860</td>\n",
       "      <td>0.154018</td>\n",
       "      <td>7.717003</td>\n",
       "      <td>17.953130</td>\n",
       "    </tr>\n",
       "    <tr>\n",
       "      <th>1</th>\n",
       "      <td>mistral</td>\n",
       "      <td>chat</td>\n",
       "      <td>stress</td>\n",
       "      <td>129.762687</td>\n",
       "      <td>0.166773</td>\n",
       "      <td>12.351301</td>\n",
       "      <td>129.803901</td>\n",
       "    </tr>\n",
       "    <tr>\n",
       "      <th>2</th>\n",
       "      <td>mistral</td>\n",
       "      <td>single</td>\n",
       "      <td>stress</td>\n",
       "      <td>44.300852</td>\n",
       "      <td>0.346041</td>\n",
       "      <td>4.747352</td>\n",
       "      <td>44.314730</td>\n",
       "    </tr>\n",
       "    <tr>\n",
       "      <th>3</th>\n",
       "      <td>mistral</td>\n",
       "      <td>summarizer</td>\n",
       "      <td>stress</td>\n",
       "      <td>41.940555</td>\n",
       "      <td>0.002994</td>\n",
       "      <td>501.051288</td>\n",
       "      <td>41.953826</td>\n",
       "    </tr>\n",
       "  </tbody>\n",
       "</table>\n",
       "</div>"
      ]
     },
     "metadata": {},
     "output_type": "display_data"
    },
    {
     "data": {
      "text/plain": [
       "        model   test_name test_type      ttft      tpot  tokens_per_sec  \\\n",
       "0  meta-llama       batch    client  3.321161  0.023277       43.165226   \n",
       "1  meta-llama        chat    client  2.760254  0.011060      124.647677   \n",
       "2  meta-llama      single    client  2.750212  0.019302       52.138889   \n",
       "3  meta-llama  summarizer    client  3.275768  0.000276     3629.673818   \n",
       "\n",
       "    latency  \n",
       "0  3.328197  \n",
       "1  2.767868  \n",
       "2  2.758758  \n",
       "3  3.281562  "
      ],
      "text/html": [
       "<div>\n",
       "<style scoped>\n",
       "    .dataframe tbody tr th:only-of-type {\n",
       "        vertical-align: middle;\n",
       "    }\n",
       "\n",
       "    .dataframe tbody tr th {\n",
       "        vertical-align: top;\n",
       "    }\n",
       "\n",
       "    .dataframe thead th {\n",
       "        text-align: right;\n",
       "    }\n",
       "</style>\n",
       "<table border=\"1\" class=\"dataframe\">\n",
       "  <thead>\n",
       "    <tr style=\"text-align: right;\">\n",
       "      <th></th>\n",
       "      <th>model</th>\n",
       "      <th>test_name</th>\n",
       "      <th>test_type</th>\n",
       "      <th>ttft</th>\n",
       "      <th>tpot</th>\n",
       "      <th>tokens_per_sec</th>\n",
       "      <th>latency</th>\n",
       "    </tr>\n",
       "  </thead>\n",
       "  <tbody>\n",
       "    <tr>\n",
       "      <th>0</th>\n",
       "      <td>meta-llama</td>\n",
       "      <td>batch</td>\n",
       "      <td>client</td>\n",
       "      <td>3.321161</td>\n",
       "      <td>0.023277</td>\n",
       "      <td>43.165226</td>\n",
       "      <td>3.328197</td>\n",
       "    </tr>\n",
       "    <tr>\n",
       "      <th>1</th>\n",
       "      <td>meta-llama</td>\n",
       "      <td>chat</td>\n",
       "      <td>client</td>\n",
       "      <td>2.760254</td>\n",
       "      <td>0.011060</td>\n",
       "      <td>124.647677</td>\n",
       "      <td>2.767868</td>\n",
       "    </tr>\n",
       "    <tr>\n",
       "      <th>2</th>\n",
       "      <td>meta-llama</td>\n",
       "      <td>single</td>\n",
       "      <td>client</td>\n",
       "      <td>2.750212</td>\n",
       "      <td>0.019302</td>\n",
       "      <td>52.138889</td>\n",
       "      <td>2.758758</td>\n",
       "    </tr>\n",
       "    <tr>\n",
       "      <th>3</th>\n",
       "      <td>meta-llama</td>\n",
       "      <td>summarizer</td>\n",
       "      <td>client</td>\n",
       "      <td>3.275768</td>\n",
       "      <td>0.000276</td>\n",
       "      <td>3629.673818</td>\n",
       "      <td>3.281562</td>\n",
       "    </tr>\n",
       "  </tbody>\n",
       "</table>\n",
       "</div>"
      ]
     },
     "metadata": {},
     "output_type": "display_data"
    },
    {
     "data": {
      "text/plain": [
       "        model   test_name test_type        ttft      tpot  tokens_per_sec  \\\n",
       "0  meta-llama       batch    stress   21.782400  0.152234        7.019988   \n",
       "1  meta-llama        chat    stress  172.470728  0.220917        8.410213   \n",
       "2  meta-llama      single    stress   54.977543  0.380515        3.994425   \n",
       "3  meta-llama  summarizer    stress   60.676035  0.004979      265.634407   \n",
       "\n",
       "      latency  \n",
       "0   21.791115  \n",
       "1  172.516374  \n",
       "2   54.990304  \n",
       "3   60.694689  "
      ],
      "text/html": [
       "<div>\n",
       "<style scoped>\n",
       "    .dataframe tbody tr th:only-of-type {\n",
       "        vertical-align: middle;\n",
       "    }\n",
       "\n",
       "    .dataframe tbody tr th {\n",
       "        vertical-align: top;\n",
       "    }\n",
       "\n",
       "    .dataframe thead th {\n",
       "        text-align: right;\n",
       "    }\n",
       "</style>\n",
       "<table border=\"1\" class=\"dataframe\">\n",
       "  <thead>\n",
       "    <tr style=\"text-align: right;\">\n",
       "      <th></th>\n",
       "      <th>model</th>\n",
       "      <th>test_name</th>\n",
       "      <th>test_type</th>\n",
       "      <th>ttft</th>\n",
       "      <th>tpot</th>\n",
       "      <th>tokens_per_sec</th>\n",
       "      <th>latency</th>\n",
       "    </tr>\n",
       "  </thead>\n",
       "  <tbody>\n",
       "    <tr>\n",
       "      <th>0</th>\n",
       "      <td>meta-llama</td>\n",
       "      <td>batch</td>\n",
       "      <td>stress</td>\n",
       "      <td>21.782400</td>\n",
       "      <td>0.152234</td>\n",
       "      <td>7.019988</td>\n",
       "      <td>21.791115</td>\n",
       "    </tr>\n",
       "    <tr>\n",
       "      <th>1</th>\n",
       "      <td>meta-llama</td>\n",
       "      <td>chat</td>\n",
       "      <td>stress</td>\n",
       "      <td>172.470728</td>\n",
       "      <td>0.220917</td>\n",
       "      <td>8.410213</td>\n",
       "      <td>172.516374</td>\n",
       "    </tr>\n",
       "    <tr>\n",
       "      <th>2</th>\n",
       "      <td>meta-llama</td>\n",
       "      <td>single</td>\n",
       "      <td>stress</td>\n",
       "      <td>54.977543</td>\n",
       "      <td>0.380515</td>\n",
       "      <td>3.994425</td>\n",
       "      <td>54.990304</td>\n",
       "    </tr>\n",
       "    <tr>\n",
       "      <th>3</th>\n",
       "      <td>meta-llama</td>\n",
       "      <td>summarizer</td>\n",
       "      <td>stress</td>\n",
       "      <td>60.676035</td>\n",
       "      <td>0.004979</td>\n",
       "      <td>265.634407</td>\n",
       "      <td>60.694689</td>\n",
       "    </tr>\n",
       "  </tbody>\n",
       "</table>\n",
       "</div>"
      ]
     },
     "metadata": {},
     "output_type": "display_data"
    }
   ],
   "execution_count": 4
  },
  {
   "metadata": {
    "ExecuteTime": {
     "end_time": "2025-07-26T20:26:11.497248Z",
     "start_time": "2025-07-26T20:26:11.405473Z"
    }
   },
   "cell_type": "code",
   "source": [
    "import matplotlib.pyplot as plt\n",
    "import seaborn as sns\n",
    "single_type = 'stress'\n",
    "filtered = summary[summary['test_type'] == single_type]\n",
    "\n",
    "\n",
    "\n",
    "plt.figure(figsize=(10, 6))\n",
    "sns.barplot(data=filtered, x='test_name', y='ttft', hue='model')\n",
    "plt.title(f'Average TTFT for Each Model ({single_type})')\n",
    "plt.ylabel('TTFT')\n",
    "plt.xlabel('Test Name')\n",
    "plt.legend(title='Model')\n",
    "plt.tight_layout()\n",
    "plt.show()"
   ],
   "id": "b97bef970e8a50bc",
   "outputs": [
    {
     "data": {
      "text/plain": [
       "<Figure size 1000x600 with 1 Axes>"
      ],
      "image/png": "[encoded data removed]"
     },
     "metadata": {},
     "output_type": "display_data"
    }
   ],
   "execution_count": 5
  },
  {
   "metadata": {
    "ExecuteTime": {
     "end_time": "2025-07-26T20:30:51.965595Z",
     "start_time": "2025-07-26T20:30:51.889511Z"
    }
   },
   "cell_type": "code",
   "source": [
    "single_type = 'client'\n",
    "filtered = summary[summary['test_type'] == single_type]\n",
    "\n",
    "plt.figure(figsize=(10, 6))\n",
    "sns.barplot(data=filtered, x='test_name', y='latency', hue='model')\n",
    "plt.title(f'Average TTFT for Each Model ({single_type})')\n",
    "plt.ylabel('TTFT')\n",
    "plt.xlabel('Test Name')\n",
    "plt.legend(title='Model')\n",
    "\n",
    "plt.tight_layout()\n",
    "plt.show()\n",
    "\n",
    "\n",
    "\n"
   ],
   "id": "3450c86f59e2d1fc",
   "outputs": [
    {
     "data": {
      "text/plain": [
       "<Figure size 1000x600 with 1 Axes>"
      ],
      "image/png": "[encoded data removed]"
     },
     "metadata": {},
     "output_type": "display_data"
    }
   ],
   "execution_count": 17
  },
  {
   "metadata": {
    "ExecuteTime": {
     "end_time": "2025-07-26T20:27:02.119709Z",
     "start_time": "2025-07-26T20:27:02.086630Z"
    }
   },
   "cell_type": "code",
   "source": [
    "grouped = df.groupby(['model', 'test_name', 'test_type'])['ttft'].agg(['mean', 'std']).reset_index()\n",
    "\n",
    "import plotly.express as px\n",
    "\n",
    "fig = px.bar(\n",
    "    grouped[grouped['test_type'] == 'client'],\n",
    "    x='test_name', y='mean', color='model',\n",
    "    error_y='std', barmode='group',\n",
    "    title='TTFT with Error Bars (Interactive)'\n",
    ")\n",
    "fig.show()"
   ],
   "id": "36e82559db8ac9b9",
   "outputs": [
    {
     "data": {
      "application/vnd.plotly.v1+json": {
       "data": [
        {
         "alignmentgroup": "True",
         "error_y": {
          "array": {
           "dtype": "f8",
           "bdata": "UrhB7slJRUAz5QV6ZBMwQKmXPE+ufx5AAAAAAAAA+H8="
          }
         },
         "hovertemplate": "model=gemma3<br>test_name=%{x}<br>mean=%{y}<extra></extra>",
         "legendgroup": "gemma3",
         "marker": {
          "color": "#636efa",
          "pattern": {
           "shape": ""
          }
         },
         "name": "gemma3",
         "offsetgroup": "gemma3",
         "orientation": "v",
         "showlegend": true,
         "textposition": "auto",
         "x": [
          "batch",
          "chat",
          "single",
          "summarizer"
         ],
         "xaxis": "x",
         "y": {
          "dtype": "f8",
          "bdata": "tjAL7Vx2QEA0fG1yRzEpQAmpPSMl6QRARgpl4etvQkA="
         },
         "yaxis": "y",
         "type": "bar"
        },
        {
         "alignmentgroup": "True",
         "error_y": {
          "array": {
           "dtype": "f8",
           "bdata": "wHeY0f9nqj+oTG1dCCG2Py0yFZzFXsc/AAAAAAAA+H8="
          }
         },
         "hovertemplate": "model=meta-llama<br>test_name=%{x}<br>mean=%{y}<extra></extra>",
         "legendgroup": "meta-llama",
         "marker": {
          "color": "#EF553B",
          "pattern": {
           "shape": ""
          }
         },
         "name": "meta-llama",
         "offsetgroup": "meta-llama",
         "orientation": "v",
         "showlegend": true,
         "textposition": "auto",
         "x": [
          "batch",
          "chat",
          "single",
          "summarizer"
         ],
         "xaxis": "x",
         "y": {
          "dtype": "f8",
          "bdata": "WAG+27yRCkBlODxIABUGQFw1lWZvAAZAQURq2sU0CkA="
         },
         "yaxis": "y",
         "type": "bar"
        },
        {
         "alignmentgroup": "True",
         "error_y": {
          "array": {
           "dtype": "f8",
           "bdata": "t/SHnaibvD8f4Lasw+LiP6lDsKaaYuE/AAAAAAAA+H8="
          }
         },
         "hovertemplate": "model=mistral<br>test_name=%{x}<br>mean=%{y}<extra></extra>",
         "legendgroup": "mistral",
         "marker": {
          "color": "#00cc96",
          "pattern": {
           "shape": ""
          }
         },
         "name": "mistral",
         "offsetgroup": "mistral",
         "orientation": "v",
         "showlegend": true,
         "textposition": "auto",
         "x": [
          "batch",
          "chat",
          "single",
          "summarizer"
         ],
         "xaxis": "x",
         "y": {
          "dtype": "f8",
          "bdata": "oNtLGqMRCkCBqA7M5I4DQGsLdJJS9QNAKQezCTAMC0A="
         },
         "yaxis": "y",
         "type": "bar"
        }
       ],
       "layout": {
        "template": {
         "data": {
          "histogram2dcontour": [
           {
            "type": "histogram2dcontour",
            "colorbar": {
             "outlinewidth": 0,
             "ticks": ""
            },
            "colorscale": [
             [
              0.0,
              "#0d0887"
             ],
             [
              0.1111111111111111,
              "#46039f"
             ],
             [
              0.2222222222222222,
              "#7201a8"
             ],
             [
              0.3333333333333333,
              "#9c179e"
             ],
             [
              0.4444444444444444,
              "#bd3786"
             ],
             [
              0.5555555555555556,
              "#d8576b"
             ],
             [
              0.6666666666666666,
              "#ed7953"
             ],
             [
              0.7777777777777778,
              "#fb9f3a"
             ],
             [
              0.8888888888888888,
              "#fdca26"
             ],
             [
              1.0,
              "#f0f921"
             ]
            ]
           }
          ],
          "choropleth": [
           {
            "type": "choropleth",
            "colorbar": {
             "outlinewidth": 0,
             "ticks": ""
            }
           }
          ],
          "histogram2d": [
           {
            "type": "histogram2d",
            "colorbar": {
             "outlinewidth": 0,
             "ticks": ""
            },
            "colorscale": [
             [
              0.0,
              "#0d0887"
             ],
             [
              0.1111111111111111,
              "#46039f"
             ],
             [
              0.2222222222222222,
              "#7201a8"
             ],
             [
              0.3333333333333333,
              "#9c179e"
             ],
             [
              0.4444444444444444,
              "#bd3786"
             ],
             [
              0.5555555555555556,
              "#d8576b"
             ],
             [
              0.6666666666666666,
              "#ed7953"
             ],
             [
              0.7777777777777778,
              "#fb9f3a"
             ],
             [
              0.8888888888888888,
              "#fdca26"
             ],
             [
              1.0,
              "#f0f921"
             ]
            ]
           }
          ],
          "heatmap": [
           {
            "type": "heatmap",
            "colorbar": {
             "outlinewidth": 0,
             "ticks": ""
            },
            "colorscale": [
             [
              0.0,
              "#0d0887"
             ],
             [
              0.1111111111111111,
              "#46039f"
             ],
             [
              0.2222222222222222,
              "#7201a8"
             ],
             [
              0.3333333333333333,
              "#9c179e"
             ],
             [
              0.4444444444444444,
              "#bd3786"
             ],
             [
              0.5555555555555556,
              "#d8576b"
             ],
             [
              0.6666666666666666,
              "#ed7953"
             ],
             [
              0.7777777777777778,
              "#fb9f3a"
             ],
             [
              0.8888888888888888,
              "#fdca26"
             ],
             [
              1.0,
              "#f0f921"
             ]
            ]
           }
          ],
          "contourcarpet": [
           {
            "type": "contourcarpet",
            "colorbar": {
             "outlinewidth": 0,
             "ticks": ""
            }
           }
          ],
          "contour": [
           {
            "type": "contour",
            "colorbar": {
             "outlinewidth": 0,
             "ticks": ""
            },
            "colorscale": [
             [
              0.0,
              "#0d0887"
             ],
             [
              0.1111111111111111,
              "#46039f"
             ],
             [
              0.2222222222222222,
              "#7201a8"
             ],
             [
              0.3333333333333333,
              "#9c179e"
             ],
             [
              0.4444444444444444,
              "#bd3786"
             ],
             [
              0.5555555555555556,
              "#d8576b"
             ],
             [
              0.6666666666666666,
              "#ed7953"
             ],
             [
              0.7777777777777778,
              "#fb9f3a"
             ],
             [
              0.8888888888888888,
              "#fdca26"
             ],
             [
              1.0,
              "#f0f921"
             ]
            ]
           }
          ],
          "surface": [
           {
            "type": "surface",
            "colorbar": {
             "outlinewidth": 0,
             "ticks": ""
            },
            "colorscale": [
             [
              0.0,
              "#0d0887"
             ],
             [
              0.1111111111111111,
              "#46039f"
             ],
             [
              0.2222222222222222,
              "#7201a8"
             ],
             [
              0.3333333333333333,
              "#9c179e"
             ],
             [
              0.4444444444444444,
              "#bd3786"
             ],
             [
              0.5555555555555556,
              "#d8576b"
             ],
             [
              0.6666666666666666,
              "#ed7953"
             ],
             [
              0.7777777777777778,
              "#fb9f3a"
             ],
             [
              0.8888888888888888,
              "#fdca26"
             ],
             [
              1.0,
              "#f0f921"
             ]
            ]
           }
          ],
          "mesh3d": [
           {
            "type": "mesh3d",
            "colorbar": {
             "outlinewidth": 0,
             "ticks": ""
            }
           }
          ],
          "scatter": [
           {
            "marker": {
             "line": {
              "color": "#283442"
             }
            },
            "type": "scatter"
           }
          ],
          "parcoords": [
           {
            "type": "parcoords",
            "line": {
             "colorbar": {
              "outlinewidth": 0,
              "ticks": ""
             }
            }
           }
          ],
          "scatterpolargl": [
           {
            "type": "scatterpolargl",
            "marker": {
             "colorbar": {
              "outlinewidth": 0,
              "ticks": ""
             }
            }
           }
          ],
          "bar": [
           {
            "error_x": {
             "color": "#f2f5fa"
            },
            "error_y": {
             "color": "#f2f5fa"
            },
            "marker": {
             "line": {
              "color": "rgb(17,17,17)",
              "width": 0.5
             },
             "pattern": {
              "fillmode": "overlay",
              "size": 10,
              "solidity": 0.2
             }
            },
            "type": "bar"
           }
          ],
          "scattergeo": [
           {
            "type": "scattergeo",
            "marker": {
             "colorbar": {
              "outlinewidth": 0,
              "ticks": ""
             }
            }
           }
          ],
          "scatterpolar": [
           {
            "type": "scatterpolar",
            "marker": {
             "colorbar": {
              "outlinewidth": 0,
              "ticks": ""
             }
            }
           }
          ],
          "histogram": [
           {
            "marker": {
             "pattern": {
              "fillmode": "overlay",
              "size": 10,
              "solidity": 0.2
             }
            },
            "type": "histogram"
           }
          ],
          "scattergl": [
           {
            "marker": {
             "line": {
              "color": "#283442"
             }
            },
            "type": "scattergl"
           }
          ],
          "scatter3d": [
           {
            "type": "scatter3d",
            "line": {
             "colorbar": {
              "outlinewidth": 0,
              "ticks": ""
             }
            },
            "marker": {
             "colorbar": {
              "outlinewidth": 0,
              "ticks": ""
             }
            }
           }
          ],
          "scattermap": [
           {
            "type": "scattermap",
            "marker": {
             "colorbar": {
              "outlinewidth": 0,
              "ticks": ""
             }
            }
           }
          ],
          "scattermapbox": [
           {
            "type": "scattermapbox",
            "marker": {
             "colorbar": {
              "outlinewidth": 0,
              "ticks": ""
             }
            }
           }
          ],
          "scatterternary": [
           {
            "type": "scatterternary",
            "marker": {
             "colorbar": {
              "outlinewidth": 0,
              "ticks": ""
             }
            }
           }
          ],
          "scattercarpet": [
           {
            "type": "scattercarpet",
            "marker": {
             "colorbar": {
              "outlinewidth": 0,
              "ticks": ""
             }
            }
           }
          ],
          "carpet": [
           {
            "aaxis": {
             "endlinecolor": "#A2B1C6",
             "gridcolor": "#506784",
             "linecolor": "#506784",
             "minorgridcolor": "#506784",
             "startlinecolor": "#A2B1C6"
            },
            "baxis": {
             "endlinecolor": "#A2B1C6",
             "gridcolor": "#506784",
             "linecolor": "#506784",
             "minorgridcolor": "#506784",
             "startlinecolor": "#A2B1C6"
            },
            "type": "carpet"
           }
          ],
          "table": [
           {
            "cells": {
             "fill": {
              "color": "#506784"
             },
             "line": {
              "color": "rgb(17,17,17)"
             }
            },
            "header": {
             "fill": {
              "color": "#2a3f5f"
             },
             "line": {
              "color": "rgb(17,17,17)"
             }
            },
            "type": "table"
           }
          ],
          "barpolar": [
           {
            "marker": {
             "line": {
              "color": "rgb(17,17,17)",
              "width": 0.5
             },
             "pattern": {
              "fillmode": "overlay",
              "size": 10,
              "solidity": 0.2
             }
            },
            "type": "barpolar"
           }
          ],
          "pie": [
           {
            "automargin": true,
            "type": "pie"
           }
          ]
         },
         "layout": {
          "autotypenumbers": "strict",
          "colorway": [
           "#636efa",
           "#EF553B",
           "#00cc96",
           "#ab63fa",
           "#FFA15A",
           "#19d3f3",
           "#FF6692",
           "#B6E880",
           "#FF97FF",
           "#FECB52"
          ],
          "font": {
           "color": "#f2f5fa"
          },
          "hovermode": "closest",
          "hoverlabel": {
           "align": "left"
          },
          "paper_bgcolor": "rgb(17,17,17)",
          "plot_bgcolor": "rgb(17,17,17)",
          "polar": {
           "bgcolor": "rgb(17,17,17)",
           "angularaxis": {
            "gridcolor": "#506784",
            "linecolor": "#506784",
            "ticks": ""
           },
           "radialaxis": {
            "gridcolor": "#506784",
            "linecolor": "#506784",
            "ticks": ""
           }
          },
          "ternary": {
           "bgcolor": "rgb(17,17,17)",
           "aaxis": {
            "gridcolor": "#506784",
            "linecolor": "#506784",
            "ticks": ""
           },
           "baxis": {
            "gridcolor": "#506784",
            "linecolor": "#506784",
            "ticks": ""
           },
           "caxis": {
            "gridcolor": "#506784",
            "linecolor": "#506784",
            "ticks": ""
           }
          },
          "coloraxis": {
           "colorbar": {
            "outlinewidth": 0,
            "ticks": ""
           }
          },
          "colorscale": {
           "sequential": [
            [
             0.0,
             "#0d0887"
            ],
            [
             0.1111111111111111,
             "#46039f"
            ],
            [
             0.2222222222222222,
             "#7201a8"
            ],
            [
             0.3333333333333333,
             "#9c179e"
            ],
            [
             0.4444444444444444,
             "#bd3786"
            ],
            [
             0.5555555555555556,
             "#d8576b"
            ],
            [
             0.6666666666666666,
             "#ed7953"
            ],
            [
             0.7777777777777778,
             "#fb9f3a"
            ],
            [
             0.8888888888888888,
             "#fdca26"
            ],
            [
             1.0,
             "#f0f921"
            ]
           ],
           "sequentialminus": [
            [
             0.0,
             "#0d0887"
            ],
            [
             0.1111111111111111,
             "#46039f"
            ],
            [
             0.2222222222222222,
             "#7201a8"
            ],
            [
             0.3333333333333333,
             "#9c179e"
            ],
            [
             0.4444444444444444,
             "#bd3786"
            ],
            [
             0.5555555555555556,
             "#d8576b"
            ],
            [
             0.6666666666666666,
             "#ed7953"
            ],
            [
             0.7777777777777778,
             "#fb9f3a"
            ],
            [
             0.8888888888888888,
             "#fdca26"
            ],
            [
             1.0,
             "#f0f921"
            ]
           ],
           "diverging": [
            [
             0,
             "#8e0152"
            ],
            [
             0.1,
             "#c51b7d"
            ],
            [
             0.2,
             "#de77ae"
            ],
            [
             0.3,
             "#f1b6da"
            ],
            [
             0.4,
             "#fde0ef"
            ],
            [
             0.5,
             "#f7f7f7"
            ],
            [
             0.6,
             "#e6f5d0"
            ],
            [
             0.7,
             "#b8e186"
            ],
            [
             0.8,
             "#7fbc41"
            ],
            [
             0.9,
             "#4d9221"
            ],
            [
             1,
             "#276419"
            ]
           ]
          },
          "xaxis": {
           "gridcolor": "#283442",
           "linecolor": "#506784",
           "ticks": "",
           "title": {
            "standoff": 15
           },
           "zerolinecolor": "#283442",
           "automargin": true,
           "zerolinewidth": 2
          },
          "yaxis": {
           "gridcolor": "#283442",
           "linecolor": "#506784",
           "ticks": "",
           "title": {
            "standoff": 15
           },
           "zerolinecolor": "#283442",
           "automargin": true,
           "zerolinewidth": 2
          },
          "scene": {
           "xaxis": {
            "backgroundcolor": "rgb(17,17,17)",
            "gridcolor": "#506784",
            "linecolor": "#506784",
            "showbackground": true,
            "ticks": "",
            "zerolinecolor": "#C8D4E3",
            "gridwidth": 2
           },
           "yaxis": {
            "backgroundcolor": "rgb(17,17,17)",
            "gridcolor": "#506784",
            "linecolor": "#506784",
            "showbackground": true,
            "ticks": "",
            "zerolinecolor": "#C8D4E3",
            "gridwidth": 2
           },
           "zaxis": {
            "backgroundcolor": "rgb(17,17,17)",
            "gridcolor": "#506784",
            "linecolor": "#506784",
            "showbackground": true,
            "ticks": "",
            "zerolinecolor": "#C8D4E3",
            "gridwidth": 2
           }
          },
          "shapedefaults": {
           "line": {
            "color": "#f2f5fa"
           }
          },
          "annotationdefaults": {
           "arrowcolor": "#f2f5fa",
           "arrowhead": 0,
           "arrowwidth": 1
          },
          "geo": {
           "bgcolor": "rgb(17,17,17)",
           "landcolor": "rgb(17,17,17)",
           "subunitcolor": "#506784",
           "showland": true,
           "showlakes": true,
           "lakecolor": "rgb(17,17,17)"
          },
          "title": {
           "x": 0.05
          },
          "updatemenudefaults": {
           "bgcolor": "#506784",
           "borderwidth": 0
          },
          "sliderdefaults": {
           "bgcolor": "#C8D4E3",
           "borderwidth": 1,
           "bordercolor": "rgb(17,17,17)",
           "tickwidth": 0
          },
          "mapbox": {
           "style": "dark"
          }
         }
        },
        "xaxis": {
         "anchor": "y",
         "domain": [
          0.0,
          1.0
         ],
         "title": {
          "text": "test_name"
         }
        },
        "yaxis": {
         "anchor": "x",
         "domain": [
          0.0,
          1.0
         ],
         "title": {
          "text": "mean"
         }
        },
        "legend": {
         "title": {
          "text": "model"
         },
         "tracegroupgap": 0
        },
        "title": {
         "text": "TTFT with Error Bars (Interactive)"
        },
        "barmode": "group"
       },
       "config": {
        "plotlyServerURL": "https://plot.ly"
       }
      }
     },
     "metadata": {},
     "output_type": "display_data"
    }
   ],
   "execution_count": 9
  },
  {
   "metadata": {
    "ExecuteTime": {
     "end_time": "2025-07-26T18:31:49.355888Z",
     "start_time": "2025-07-26T18:31:49.255523Z"
    }
   },
   "cell_type": "code",
   "outputs": [
    {
     "data": {
      "text/plain": [
       "        model   test_name  ttft_pct_change  tpot_pct_change  \\\n",
       "0  meta-llama       batch           -84.75           -84.71   \n",
       "1  meta-llama        chat           -98.40           -94.99   \n",
       "2  meta-llama      single           -95.00           -94.93   \n",
       "3  meta-llama  summarizer           -94.60           -94.47   \n",
       "4     mistral       batch           -81.84           -80.34   \n",
       "5     mistral        chat           -98.12           -93.32   \n",
       "6     mistral      single           -94.37           -94.66   \n",
       "7     mistral  summarizer           -91.94           -92.01   \n",
       "\n",
       "   tokens_per_sec_pct_change  latency_pct_change  \n",
       "0                     514.89              -84.73  \n",
       "1                    1382.10              -98.40  \n",
       "2                    1205.29              -94.98  \n",
       "3                    1266.42              -94.59  \n",
       "4                     410.74              -81.81  \n",
       "5                     852.06              -98.11  \n",
       "6                    1064.51              -94.35  \n",
       "7                     733.90              -91.92  "
      ],
      "text/html": [
       "<div>\n",
       "<style scoped>\n",
       "    .dataframe tbody tr th:only-of-type {\n",
       "        vertical-align: middle;\n",
       "    }\n",
       "\n",
       "    .dataframe tbody tr th {\n",
       "        vertical-align: top;\n",
       "    }\n",
       "\n",
       "    .dataframe thead th {\n",
       "        text-align: right;\n",
       "    }\n",
       "</style>\n",
       "<table border=\"1\" class=\"dataframe\">\n",
       "  <thead>\n",
       "    <tr style=\"text-align: right;\">\n",
       "      <th></th>\n",
       "      <th>model</th>\n",
       "      <th>test_name</th>\n",
       "      <th>ttft_pct_change</th>\n",
       "      <th>tpot_pct_change</th>\n",
       "      <th>tokens_per_sec_pct_change</th>\n",
       "      <th>latency_pct_change</th>\n",
       "    </tr>\n",
       "  </thead>\n",
       "  <tbody>\n",
       "    <tr>\n",
       "      <th>0</th>\n",
       "      <td>meta-llama</td>\n",
       "      <td>batch</td>\n",
       "      <td>-84.75</td>\n",
       "      <td>-84.71</td>\n",
       "      <td>514.89</td>\n",
       "      <td>-84.73</td>\n",
       "    </tr>\n",
       "    <tr>\n",
       "      <th>1</th>\n",
       "      <td>meta-llama</td>\n",
       "      <td>chat</td>\n",
       "      <td>-98.40</td>\n",
       "      <td>-94.99</td>\n",
       "      <td>1382.10</td>\n",
       "      <td>-98.40</td>\n",
       "    </tr>\n",
       "    <tr>\n",
       "      <th>2</th>\n",
       "      <td>meta-llama</td>\n",
       "      <td>single</td>\n",
       "      <td>-95.00</td>\n",
       "      <td>-94.93</td>\n",
       "      <td>1205.29</td>\n",
       "      <td>-94.98</td>\n",
       "    </tr>\n",
       "    <tr>\n",
       "      <th>3</th>\n",
       "      <td>meta-llama</td>\n",
       "      <td>summarizer</td>\n",
       "      <td>-94.60</td>\n",
       "      <td>-94.47</td>\n",
       "      <td>1266.42</td>\n",
       "      <td>-94.59</td>\n",
       "    </tr>\n",
       "    <tr>\n",
       "      <th>4</th>\n",
       "      <td>mistral</td>\n",
       "      <td>batch</td>\n",
       "      <td>-81.84</td>\n",
       "      <td>-80.34</td>\n",
       "      <td>410.74</td>\n",
       "      <td>-81.81</td>\n",
       "    </tr>\n",
       "    <tr>\n",
       "      <th>5</th>\n",
       "      <td>mistral</td>\n",
       "      <td>chat</td>\n",
       "      <td>-98.12</td>\n",
       "      <td>-93.32</td>\n",
       "      <td>852.06</td>\n",
       "      <td>-98.11</td>\n",
       "    </tr>\n",
       "    <tr>\n",
       "      <th>6</th>\n",
       "      <td>mistral</td>\n",
       "      <td>single</td>\n",
       "      <td>-94.37</td>\n",
       "      <td>-94.66</td>\n",
       "      <td>1064.51</td>\n",
       "      <td>-94.35</td>\n",
       "    </tr>\n",
       "    <tr>\n",
       "      <th>7</th>\n",
       "      <td>mistral</td>\n",
       "      <td>summarizer</td>\n",
       "      <td>-91.94</td>\n",
       "      <td>-92.01</td>\n",
       "      <td>733.90</td>\n",
       "      <td>-91.92</td>\n",
       "    </tr>\n",
       "  </tbody>\n",
       "</table>\n",
       "</div>"
      ]
     },
     "metadata": {},
     "output_type": "display_data"
    },
    {
     "data": {
      "text/plain": [
       "<Figure size 1000x400 with 1 Axes>"
      ],
      "image/png": "[encoded data removed]"
     },
     "metadata": {},
     "output_type": "display_data"
    }
   ],
   "execution_count": 80,
   "source": [
    "import numpy as np\n",
    "\n",
    "# Remove 'gemma3' and aggregate\n",
    "summary = df[~df['model'].str.contains('gemma3')].groupby(['model', 'test_name', 'test_type']).agg({\n",
    "    'ttft': 'mean',\n",
    "    'tpot': 'mean',\n",
    "    'tokens_per_sec': 'mean',\n",
    "    'latency': 'mean'\n",
    "}).reset_index()\n",
    "\n",
    "# Pivot with all expected test_type columns\n",
    "pivot = summary.pivot(index=['model', 'test_name'], columns='test_type', values=['ttft', 'tpot', 'tokens_per_sec', 'latency'])\n",
    "# Ensure both 'client' and 'stress' columns exist for each metric\n",
    "for metric in ['ttft', 'tpot', 'tokens_per_sec', 'latency']:\n",
    "    for ttype in ['client', 'stress']:\n",
    "        if ttype not in pivot[metric].columns:\n",
    "            pivot[metric][ttype] = np.nan\n",
    "pivot.columns = [f'{metric}_{ttype}' for metric, ttype in pivot.columns]\n",
    "pivot = pivot.reset_index()\n",
    "\n",
    "\n",
    "# Pretpostavka: df_pivot je DataFrame kojeg ste prikazali\n",
    "metrics = ['ttft', 'tpot', 'tokens_per_sec', 'latency']\n",
    "results = pivot[['model', 'test_name']].copy()\n",
    "\n",
    "for metric in metrics:\n",
    "    client = pivot[f'{metric}_client']\n",
    "    stress = pivot[f'{metric}_stress']\n",
    "    # Zaštita od dijeljenja s nulom ili vrlo malim vrijednostima\n",
    "    percent_change = 100 * (client - stress) / stress.replace(0, 1e-6)\n",
    "    results[f'{metric}_pct_change'] = percent_change.round(2)\n",
    "\n",
    "# Prikaz rezultata\n",
    "from IPython.display import display\n",
    "display(results)\n",
    "import seaborn as sns\n",
    "import matplotlib.pyplot as plt\n",
    "\n",
    "plt.figure(figsize=(10,4))\n",
    "sns.barplot(data=results, x='test_name', y='ttft_pct_change', hue='model')\n",
    "plt.ylabel('Promjena TTFT (%)')\n",
    "plt.title('Postotna promjena TTFT (client vs. stress)')\n",
    "plt.axhline(0, color='black', linewidth=1)\n",
    "plt.tight_layout()\n",
    "plt.show()\n"
   ],
   "id": "335861957a0162c9"
  },
  {
   "metadata": {},
   "cell_type": "code",
   "outputs": [],
   "execution_count": null,
   "source": [
    "# TIP TESTA\n",
    "# Vizualizacija: TTFT po modelima za oba tipa testiranja\n",
    "plt.figure(figsize=(8,5))\n",
    "sns.barplot(data=stress_summary, x='model', y='ttft', hue='test_name')\n",
    "plt.title('Prosječni TTFT po modelima i tipu testa')\n",
    "plt.ylabel('TTFT [ms]')\n",
    "plt.xlabel('Model')\n",
    "plt.legend(title='Tip testa')\n",
    "plt.tight_layout()\n",
    "plt.show()\n",
    "\n",
    "# Vizualizacija: tokens_per_sec po modelima i tipu testa\n",
    "plt.figure(figsize=(8,5))\n",
    "sns.barplot(data=summary, x='model', y='tokens_per_sec', hue='test_name')\n",
    "plt.title('Prosječan broj tokena u sekundi (tokens_per_sec)')\n",
    "plt.ylabel('Tokens / sec')\n",
    "plt.xlabel('Model')\n",
    "plt.legend(title='Tip testa')\n",
    "plt.tight_layout()\n",
    "plt.show()\n",
    "\n",
    "# Vizualizacija: tpot po modelima i tipu testa\n",
    "plt.figure(figsize=(8,5))\n",
    "sns.barplot(data=summary, x='model', y='tpot', hue='test_name')\n",
    "plt.title('Time per output token (tpot)')\n",
    "plt.ylabel('Tokens / sec')\n",
    "plt.xlabel('Model')\n",
    "plt.legend(title='Tip testa')\n",
    "plt.tight_layout()\n",
    "plt.show()\n",
    "\n",
    "# Vizualizacija: tpot po modelima i tipu testa\n",
    "plt.figure(figsize=(8,5))\n",
    "sns.barplot(data=summary, x='model', y='latency', hue='test_name')\n",
    "plt.title('Latencija (tpot)')\n",
    "plt.ylabel('sec')\n",
    "plt.xlabel('Model')\n",
    "plt.legend(title='Tip testa')\n",
    "plt.tight_layout()\n",
    "plt.show()\n",
    "\n",
    "# Vizualizacija: tokens_per_sec po modelima i tipu testa\n",
    "plt.figure(figsize=(8,5))\n",
    "sns.barplot(data=summary, x='model', y='tokens_per_sec', hue='test_name')\n",
    "plt.title('Prosječan broj tokena u sekundi (tokens_per_sec)')\n",
    "plt.ylabel('Tokens / sec')\n",
    "plt.xlabel('Model')\n",
    "plt.legend(title='Tip testa')\n",
    "plt.tight_layout()\n",
    "plt.show()\n",
    "\n",
    "# Vizualizacija: tpot po modelima i tipu testa\n",
    "plt.figure(figsize=(8,5))\n",
    "sns.barplot(data=summary, x='model', y='tpot', hue='test_name')\n",
    "plt.title('Time per output token (tpot)')\n",
    "plt.ylabel('Tokens / sec')\n",
    "plt.xlabel('Model')\n",
    "plt.legend(title='Tip testa')\n",
    "plt.tight_layout()\n",
    "plt.show()\n",
    "\n",
    "# Vizualizacija: tpot po modelima i tipu testa\n",
    "plt.figure(figsize=(8,5))\n",
    "sns.barplot(data=summary, x='model', y='latency', hue='test_name')\n",
    "plt.title('Latencija (tpot)')\n",
    "plt.ylabel('sec')\n",
    "plt.xlabel('Model')\n",
    "plt.legend(title='Tip testa')\n",
    "plt.tight_layout()\n",
    "plt.show()"
   ],
   "id": "3994bb323b246fb8"
  }
 ],
 "metadata": {
  "kernelspec": {
   "display_name": "Python 3",
   "language": "python",
   "name": "python3"
  },
  "language_info": {
   "codemirror_mode": {
    "name": "ipython",
    "version": 2
   },
   "file_extension": ".py",
   "mimetype": "text/x-python",
   "name": "python",
   "nbconvert_exporter": "python",
   "pygments_lexer": "ipython2",
   "version": "2.7.6"
  }
 },
 "nbformat": 4,
 "nbformat_minor": 5
}
