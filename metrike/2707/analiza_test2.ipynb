{
 "cells": [
  {
   "cell_type": "code",
   "id": "initial_id",
   "metadata": {
    "collapsed": true,
    "ExecuteTime": {
     "end_time": "2025-07-27T15:10:48.613879Z",
     "start_time": "2025-07-27T15:10:48.478255Z"
    }
   },
   "source": [
    "# UČITAVANJE REZULTATA\n",
    "# Prilagodi imena CSV-ova!\n",
    "import pandas as pd\n",
    "\n",
    "df1 = pd.read_csv(\"optimizirano_2707/smoke_test/1_prompt_test_results.csv\")\n",
    "df2 = pd.read_csv(\"optimizirano_2707/smoke_test/2_chat_test_results.csv\")\n",
    "df3 = pd.read_csv(\"optimizirano_2707/smoke_test/3_summarize_test_results.csv\")\n",
    "df4 = pd.read_csv(\"optimizirano_2707/smoke_test/4_batch_test_results.csv\")\n",
    "\n",
    "user_df = pd.concat([df1, df2, df3, df4], ignore_index=True)\n",
    "\n",
    "dfa = pd.read_csv(\"optimizirano_2707/locust/1_prompt_test_results.csv\")\n",
    "dfb = pd.read_csv(\"optimizirano_2707/locust/2_chat_test_results.csv\")\n",
    "dfc = pd.read_csv(\"optimizirano_2707/locust/3_summarize_test_results.csv\")\n",
    "dfd = pd.read_csv(\"optimizirano_2707/locust/4_batch_test_results.csv\")\n",
    "\n",
    "\n",
    "locust_df = pd.concat([dfa, dfb, dfc, dfd], ignore_index=True)   # Pretpostavi ime datoteke\n",
    "\n",
    "user_df['test_type'] = 'client'\n",
    "locust_df['test_type'] = 'stress'\n",
    "\n",
    "# join user_df and locust_df\n",
    "df = pd.concat([user_df, locust_df], ignore_index=True)\n",
    "\n",
    "\n",
    "\n",
    "df.head(1)\n",
    "#df.groupby(['model', 'test_type', 'test_name']).size()"
   ],
   "outputs": [
    {
     "data": {
      "text/plain": [
       "                    timestamp test_name  prompt_index   model  \\\n",
       "0  2025-07-27 11:32:56.163833    single             0  gemma3   \n",
       "\n",
       "                                              prompt       ttft      tpot  \\\n",
       "0  Which disease is more common among adults - di...  55.602557  0.448591   \n",
       "\n",
       "   tokens_per_sec    latency  prompt_tokens  output_tokens  \\\n",
       "0        2.229203  55.625264           12.0            124   \n",
       "\n",
       "                                         output_text  status_code test_type  \n",
       "0  Which disease is more common among adults - di...          200    client  "
      ],
      "text/html": [
       "<div>\n",
       "<style scoped>\n",
       "    .dataframe tbody tr th:only-of-type {\n",
       "        vertical-align: middle;\n",
       "    }\n",
       "\n",
       "    .dataframe tbody tr th {\n",
       "        vertical-align: top;\n",
       "    }\n",
       "\n",
       "    .dataframe thead th {\n",
       "        text-align: right;\n",
       "    }\n",
       "</style>\n",
       "<table border=\"1\" class=\"dataframe\">\n",
       "  <thead>\n",
       "    <tr style=\"text-align: right;\">\n",
       "      <th></th>\n",
       "      <th>timestamp</th>\n",
       "      <th>test_name</th>\n",
       "      <th>prompt_index</th>\n",
       "      <th>model</th>\n",
       "      <th>prompt</th>\n",
       "      <th>ttft</th>\n",
       "      <th>tpot</th>\n",
       "      <th>tokens_per_sec</th>\n",
       "      <th>latency</th>\n",
       "      <th>prompt_tokens</th>\n",
       "      <th>output_tokens</th>\n",
       "      <th>output_text</th>\n",
       "      <th>status_code</th>\n",
       "      <th>test_type</th>\n",
       "    </tr>\n",
       "  </thead>\n",
       "  <tbody>\n",
       "    <tr>\n",
       "      <th>0</th>\n",
       "      <td>2025-07-27 11:32:56.163833</td>\n",
       "      <td>single</td>\n",
       "      <td>0</td>\n",
       "      <td>gemma3</td>\n",
       "      <td>Which disease is more common among adults - di...</td>\n",
       "      <td>55.602557</td>\n",
       "      <td>0.448591</td>\n",
       "      <td>2.229203</td>\n",
       "      <td>55.625264</td>\n",
       "      <td>12.0</td>\n",
       "      <td>124</td>\n",
       "      <td>Which disease is more common among adults - di...</td>\n",
       "      <td>200</td>\n",
       "      <td>client</td>\n",
       "    </tr>\n",
       "  </tbody>\n",
       "</table>\n",
       "</div>"
      ]
     },
     "execution_count": 7,
     "metadata": {},
     "output_type": "execute_result"
    }
   ],
   "execution_count": 7
  },
  {
   "metadata": {
    "ExecuteTime": {
     "end_time": "2025-07-27T15:10:51.753727Z",
     "start_time": "2025-07-27T15:10:51.717454Z"
    }
   },
   "cell_type": "code",
   "source": [
    "import matplotlib.pyplot as plt\n",
    "import seaborn as sns\n",
    "\n",
    "# Prikaz osnovne tablice željenih metrika\n",
    "important_cols = ['model', 'test_name', 'test_type', 'ttft', 'tpot', 'tokens_per_sec', 'latency']\n",
    "\n",
    "# Create the summary DataFrame globally\n",
    "summary = df.groupby(['model', 'test_name', 'test_type']).agg({\n",
    "    'ttft': 'mean',\n",
    "    'tpot': 'mean',\n",
    "    'tokens_per_sec': 'mean',\n",
    "    'latency': 'mean'\n",
    "}).reset_index()\n",
    "def summary_statistics(df, model, test_type):\n",
    "    # Filter by model if provided\n",
    "    if model is not None:\n",
    "        df = df[df['model'] == model]\n",
    "    if test_type is not None:\n",
    "        df = df[df['test_type'] == test_type]\n",
    "    # Group and aggregate\n",
    "    summary = df.groupby(['model', 'test_name', 'test_type']).agg({\n",
    "        'ttft': 'mean',\n",
    "        'tpot': 'mean',\n",
    "        'tokens_per_sec': 'mean',\n",
    "        'latency': 'mean'\n",
    "    }).reset_index()\n",
    "    display(summary)\n",
    "\n",
    "models = df.model.unique()\n",
    "test_types = df.test_type.unique()\n",
    "\n",
    "for model in models:\n",
    "    for ttype in test_types:\n",
    "        summary_statistics(df, model, ttype)\n",
    "\n",
    "stress_summary = summary[summary['test_type'] == 'stress']\n",
    "\n"
   ],
   "id": "b92654838adfe954",
   "outputs": [
    {
     "data": {
      "text/plain": [
       "    model   test_name test_type       ttft      tpot  tokens_per_sec  \\\n",
       "0  gemma3       batch    client  32.979822  0.275917       31.947949   \n",
       "1  gemma3        chat    client  12.821413  0.030116       97.093191   \n",
       "2  gemma3      single    client   2.783373  0.021125       73.994999   \n",
       "3  gemma3  summarizer    client  36.920639  0.003018      331.385987   \n",
       "\n",
       "     latency  \n",
       "0  32.986820  \n",
       "1  12.829133  \n",
       "2   2.791886  \n",
       "3  36.929745  "
      ],
      "text/html": [
       "<div>\n",
       "<style scoped>\n",
       "    .dataframe tbody tr th:only-of-type {\n",
       "        vertical-align: middle;\n",
       "    }\n",
       "\n",
       "    .dataframe tbody tr th {\n",
       "        vertical-align: top;\n",
       "    }\n",
       "\n",
       "    .dataframe thead th {\n",
       "        text-align: right;\n",
       "    }\n",
       "</style>\n",
       "<table border=\"1\" class=\"dataframe\">\n",
       "  <thead>\n",
       "    <tr style=\"text-align: right;\">\n",
       "      <th></th>\n",
       "      <th>model</th>\n",
       "      <th>test_name</th>\n",
       "      <th>test_type</th>\n",
       "      <th>ttft</th>\n",
       "      <th>tpot</th>\n",
       "      <th>tokens_per_sec</th>\n",
       "      <th>latency</th>\n",
       "    </tr>\n",
       "  </thead>\n",
       "  <tbody>\n",
       "    <tr>\n",
       "      <th>0</th>\n",
       "      <td>gemma3</td>\n",
       "      <td>batch</td>\n",
       "      <td>client</td>\n",
       "      <td>32.979822</td>\n",
       "      <td>0.275917</td>\n",
       "      <td>31.947949</td>\n",
       "      <td>32.986820</td>\n",
       "    </tr>\n",
       "    <tr>\n",
       "      <th>1</th>\n",
       "      <td>gemma3</td>\n",
       "      <td>chat</td>\n",
       "      <td>client</td>\n",
       "      <td>12.821413</td>\n",
       "      <td>0.030116</td>\n",
       "      <td>97.093191</td>\n",
       "      <td>12.829133</td>\n",
       "    </tr>\n",
       "    <tr>\n",
       "      <th>2</th>\n",
       "      <td>gemma3</td>\n",
       "      <td>single</td>\n",
       "      <td>client</td>\n",
       "      <td>2.783373</td>\n",
       "      <td>0.021125</td>\n",
       "      <td>73.994999</td>\n",
       "      <td>2.791886</td>\n",
       "    </tr>\n",
       "    <tr>\n",
       "      <th>3</th>\n",
       "      <td>gemma3</td>\n",
       "      <td>summarizer</td>\n",
       "      <td>client</td>\n",
       "      <td>36.920639</td>\n",
       "      <td>0.003018</td>\n",
       "      <td>331.385987</td>\n",
       "      <td>36.929745</td>\n",
       "    </tr>\n",
       "  </tbody>\n",
       "</table>\n",
       "</div>"
      ]
     },
     "metadata": {},
     "output_type": "display_data"
    },
    {
     "data": {
      "text/plain": [
       "Empty DataFrame\n",
       "Columns: [model, test_name, test_type, ttft, tpot, tokens_per_sec, latency]\n",
       "Index: []"
      ],
      "text/html": [
       "<div>\n",
       "<style scoped>\n",
       "    .dataframe tbody tr th:only-of-type {\n",
       "        vertical-align: middle;\n",
       "    }\n",
       "\n",
       "    .dataframe tbody tr th {\n",
       "        vertical-align: top;\n",
       "    }\n",
       "\n",
       "    .dataframe thead th {\n",
       "        text-align: right;\n",
       "    }\n",
       "</style>\n",
       "<table border=\"1\" class=\"dataframe\">\n",
       "  <thead>\n",
       "    <tr style=\"text-align: right;\">\n",
       "      <th></th>\n",
       "      <th>model</th>\n",
       "      <th>test_name</th>\n",
       "      <th>test_type</th>\n",
       "      <th>ttft</th>\n",
       "      <th>tpot</th>\n",
       "      <th>tokens_per_sec</th>\n",
       "      <th>latency</th>\n",
       "    </tr>\n",
       "  </thead>\n",
       "  <tbody>\n",
       "  </tbody>\n",
       "</table>\n",
       "</div>"
      ]
     },
     "metadata": {},
     "output_type": "display_data"
    },
    {
     "data": {
      "text/plain": [
       "     model   test_name test_type      ttft      tpot  tokens_per_sec   latency\n",
       "0  mistral       batch    client  3.198348  0.024785       41.907760  3.206256\n",
       "1  mistral        chat    client  2.623166  0.009819      140.746830  2.631038\n",
       "2  mistral      single    client  2.517708  0.018405       55.185370  2.526259\n",
       "3  mistral  summarizer    client  3.413041  0.000241     4143.679856  3.418942"
      ],
      "text/html": [
       "<div>\n",
       "<style scoped>\n",
       "    .dataframe tbody tr th:only-of-type {\n",
       "        vertical-align: middle;\n",
       "    }\n",
       "\n",
       "    .dataframe tbody tr th {\n",
       "        vertical-align: top;\n",
       "    }\n",
       "\n",
       "    .dataframe thead th {\n",
       "        text-align: right;\n",
       "    }\n",
       "</style>\n",
       "<table border=\"1\" class=\"dataframe\">\n",
       "  <thead>\n",
       "    <tr style=\"text-align: right;\">\n",
       "      <th></th>\n",
       "      <th>model</th>\n",
       "      <th>test_name</th>\n",
       "      <th>test_type</th>\n",
       "      <th>ttft</th>\n",
       "      <th>tpot</th>\n",
       "      <th>tokens_per_sec</th>\n",
       "      <th>latency</th>\n",
       "    </tr>\n",
       "  </thead>\n",
       "  <tbody>\n",
       "    <tr>\n",
       "      <th>0</th>\n",
       "      <td>mistral</td>\n",
       "      <td>batch</td>\n",
       "      <td>client</td>\n",
       "      <td>3.198348</td>\n",
       "      <td>0.024785</td>\n",
       "      <td>41.907760</td>\n",
       "      <td>3.206256</td>\n",
       "    </tr>\n",
       "    <tr>\n",
       "      <th>1</th>\n",
       "      <td>mistral</td>\n",
       "      <td>chat</td>\n",
       "      <td>client</td>\n",
       "      <td>2.623166</td>\n",
       "      <td>0.009819</td>\n",
       "      <td>140.746830</td>\n",
       "      <td>2.631038</td>\n",
       "    </tr>\n",
       "    <tr>\n",
       "      <th>2</th>\n",
       "      <td>mistral</td>\n",
       "      <td>single</td>\n",
       "      <td>client</td>\n",
       "      <td>2.517708</td>\n",
       "      <td>0.018405</td>\n",
       "      <td>55.185370</td>\n",
       "      <td>2.526259</td>\n",
       "    </tr>\n",
       "    <tr>\n",
       "      <th>3</th>\n",
       "      <td>mistral</td>\n",
       "      <td>summarizer</td>\n",
       "      <td>client</td>\n",
       "      <td>3.413041</td>\n",
       "      <td>0.000241</td>\n",
       "      <td>4143.679856</td>\n",
       "      <td>3.418942</td>\n",
       "    </tr>\n",
       "  </tbody>\n",
       "</table>\n",
       "</div>"
      ]
     },
     "metadata": {},
     "output_type": "display_data"
    },
    {
     "data": {
      "text/plain": [
       "     model   test_name test_type        ttft      tpot  tokens_per_sec  \\\n",
       "0  mistral       batch    stress   30.208429  0.249207        4.698460   \n",
       "1  mistral        chat    stress  199.242897  0.229825        8.118969   \n",
       "2  mistral      single    stress   66.982331  0.517803        2.548666   \n",
       "3  mistral  summarizer    stress   76.316354  0.005448      219.159191   \n",
       "\n",
       "      latency  \n",
       "0   30.219084  \n",
       "1  199.298626  \n",
       "2   67.000131  \n",
       "3   76.338163  "
      ],
      "text/html": [
       "<div>\n",
       "<style scoped>\n",
       "    .dataframe tbody tr th:only-of-type {\n",
       "        vertical-align: middle;\n",
       "    }\n",
       "\n",
       "    .dataframe tbody tr th {\n",
       "        vertical-align: top;\n",
       "    }\n",
       "\n",
       "    .dataframe thead th {\n",
       "        text-align: right;\n",
       "    }\n",
       "</style>\n",
       "<table border=\"1\" class=\"dataframe\">\n",
       "  <thead>\n",
       "    <tr style=\"text-align: right;\">\n",
       "      <th></th>\n",
       "      <th>model</th>\n",
       "      <th>test_name</th>\n",
       "      <th>test_type</th>\n",
       "      <th>ttft</th>\n",
       "      <th>tpot</th>\n",
       "      <th>tokens_per_sec</th>\n",
       "      <th>latency</th>\n",
       "    </tr>\n",
       "  </thead>\n",
       "  <tbody>\n",
       "    <tr>\n",
       "      <th>0</th>\n",
       "      <td>mistral</td>\n",
       "      <td>batch</td>\n",
       "      <td>stress</td>\n",
       "      <td>30.208429</td>\n",
       "      <td>0.249207</td>\n",
       "      <td>4.698460</td>\n",
       "      <td>30.219084</td>\n",
       "    </tr>\n",
       "    <tr>\n",
       "      <th>1</th>\n",
       "      <td>mistral</td>\n",
       "      <td>chat</td>\n",
       "      <td>stress</td>\n",
       "      <td>199.242897</td>\n",
       "      <td>0.229825</td>\n",
       "      <td>8.118969</td>\n",
       "      <td>199.298626</td>\n",
       "    </tr>\n",
       "    <tr>\n",
       "      <th>2</th>\n",
       "      <td>mistral</td>\n",
       "      <td>single</td>\n",
       "      <td>stress</td>\n",
       "      <td>66.982331</td>\n",
       "      <td>0.517803</td>\n",
       "      <td>2.548666</td>\n",
       "      <td>67.000131</td>\n",
       "    </tr>\n",
       "    <tr>\n",
       "      <th>3</th>\n",
       "      <td>mistral</td>\n",
       "      <td>summarizer</td>\n",
       "      <td>stress</td>\n",
       "      <td>76.316354</td>\n",
       "      <td>0.005448</td>\n",
       "      <td>219.159191</td>\n",
       "      <td>76.338163</td>\n",
       "    </tr>\n",
       "  </tbody>\n",
       "</table>\n",
       "</div>"
      ]
     },
     "metadata": {},
     "output_type": "display_data"
    },
    {
     "data": {
      "text/plain": [
       "        model   test_name test_type      ttft      tpot  tokens_per_sec  \\\n",
       "0  meta-llama       batch    client  3.373580  0.023415       42.931308   \n",
       "1  meta-llama        chat    client  2.790512  0.010426      133.696066   \n",
       "2  meta-llama      single    client  2.771576  0.019419       51.841055   \n",
       "3  meta-llama  summarizer    client  3.280802  0.000276     3625.445935   \n",
       "\n",
       "    latency  \n",
       "0  3.380215  \n",
       "1  2.797598  \n",
       "2  2.780253  \n",
       "3  3.285389  "
      ],
      "text/html": [
       "<div>\n",
       "<style scoped>\n",
       "    .dataframe tbody tr th:only-of-type {\n",
       "        vertical-align: middle;\n",
       "    }\n",
       "\n",
       "    .dataframe tbody tr th {\n",
       "        vertical-align: top;\n",
       "    }\n",
       "\n",
       "    .dataframe thead th {\n",
       "        text-align: right;\n",
       "    }\n",
       "</style>\n",
       "<table border=\"1\" class=\"dataframe\">\n",
       "  <thead>\n",
       "    <tr style=\"text-align: right;\">\n",
       "      <th></th>\n",
       "      <th>model</th>\n",
       "      <th>test_name</th>\n",
       "      <th>test_type</th>\n",
       "      <th>ttft</th>\n",
       "      <th>tpot</th>\n",
       "      <th>tokens_per_sec</th>\n",
       "      <th>latency</th>\n",
       "    </tr>\n",
       "  </thead>\n",
       "  <tbody>\n",
       "    <tr>\n",
       "      <th>0</th>\n",
       "      <td>meta-llama</td>\n",
       "      <td>batch</td>\n",
       "      <td>client</td>\n",
       "      <td>3.373580</td>\n",
       "      <td>0.023415</td>\n",
       "      <td>42.931308</td>\n",
       "      <td>3.380215</td>\n",
       "    </tr>\n",
       "    <tr>\n",
       "      <th>1</th>\n",
       "      <td>meta-llama</td>\n",
       "      <td>chat</td>\n",
       "      <td>client</td>\n",
       "      <td>2.790512</td>\n",
       "      <td>0.010426</td>\n",
       "      <td>133.696066</td>\n",
       "      <td>2.797598</td>\n",
       "    </tr>\n",
       "    <tr>\n",
       "      <th>2</th>\n",
       "      <td>meta-llama</td>\n",
       "      <td>single</td>\n",
       "      <td>client</td>\n",
       "      <td>2.771576</td>\n",
       "      <td>0.019419</td>\n",
       "      <td>51.841055</td>\n",
       "      <td>2.780253</td>\n",
       "    </tr>\n",
       "    <tr>\n",
       "      <th>3</th>\n",
       "      <td>meta-llama</td>\n",
       "      <td>summarizer</td>\n",
       "      <td>client</td>\n",
       "      <td>3.280802</td>\n",
       "      <td>0.000276</td>\n",
       "      <td>3625.445935</td>\n",
       "      <td>3.285389</td>\n",
       "    </tr>\n",
       "  </tbody>\n",
       "</table>\n",
       "</div>"
      ]
     },
     "metadata": {},
     "output_type": "display_data"
    },
    {
     "data": {
      "text/plain": [
       "        model   test_name test_type        ttft      tpot  tokens_per_sec  \\\n",
       "0  meta-llama       batch    stress   24.084497  0.172753        6.186261   \n",
       "1  meta-llama        chat    stress  172.463692  0.187088       10.147555   \n",
       "2  meta-llama      single    stress   66.969528  0.466080        2.963896   \n",
       "3  meta-llama  summarizer    stress   58.616821  0.004810      295.391928   \n",
       "\n",
       "      latency  \n",
       "0   24.094519  \n",
       "1  172.516703  \n",
       "2   66.985124  \n",
       "3   58.633005  "
      ],
      "text/html": [
       "<div>\n",
       "<style scoped>\n",
       "    .dataframe tbody tr th:only-of-type {\n",
       "        vertical-align: middle;\n",
       "    }\n",
       "\n",
       "    .dataframe tbody tr th {\n",
       "        vertical-align: top;\n",
       "    }\n",
       "\n",
       "    .dataframe thead th {\n",
       "        text-align: right;\n",
       "    }\n",
       "</style>\n",
       "<table border=\"1\" class=\"dataframe\">\n",
       "  <thead>\n",
       "    <tr style=\"text-align: right;\">\n",
       "      <th></th>\n",
       "      <th>model</th>\n",
       "      <th>test_name</th>\n",
       "      <th>test_type</th>\n",
       "      <th>ttft</th>\n",
       "      <th>tpot</th>\n",
       "      <th>tokens_per_sec</th>\n",
       "      <th>latency</th>\n",
       "    </tr>\n",
       "  </thead>\n",
       "  <tbody>\n",
       "    <tr>\n",
       "      <th>0</th>\n",
       "      <td>meta-llama</td>\n",
       "      <td>batch</td>\n",
       "      <td>stress</td>\n",
       "      <td>24.084497</td>\n",
       "      <td>0.172753</td>\n",
       "      <td>6.186261</td>\n",
       "      <td>24.094519</td>\n",
       "    </tr>\n",
       "    <tr>\n",
       "      <th>1</th>\n",
       "      <td>meta-llama</td>\n",
       "      <td>chat</td>\n",
       "      <td>stress</td>\n",
       "      <td>172.463692</td>\n",
       "      <td>0.187088</td>\n",
       "      <td>10.147555</td>\n",
       "      <td>172.516703</td>\n",
       "    </tr>\n",
       "    <tr>\n",
       "      <th>2</th>\n",
       "      <td>meta-llama</td>\n",
       "      <td>single</td>\n",
       "      <td>stress</td>\n",
       "      <td>66.969528</td>\n",
       "      <td>0.466080</td>\n",
       "      <td>2.963896</td>\n",
       "      <td>66.985124</td>\n",
       "    </tr>\n",
       "    <tr>\n",
       "      <th>3</th>\n",
       "      <td>meta-llama</td>\n",
       "      <td>summarizer</td>\n",
       "      <td>stress</td>\n",
       "      <td>58.616821</td>\n",
       "      <td>0.004810</td>\n",
       "      <td>295.391928</td>\n",
       "      <td>58.633005</td>\n",
       "    </tr>\n",
       "  </tbody>\n",
       "</table>\n",
       "</div>"
      ]
     },
     "metadata": {},
     "output_type": "display_data"
    }
   ],
   "execution_count": 8
  },
  {
   "metadata": {
    "ExecuteTime": {
     "end_time": "2025-07-27T15:12:47.486570Z",
     "start_time": "2025-07-27T15:12:47.352454Z"
    }
   },
   "cell_type": "code",
   "source": [
    "import matplotlib.pyplot as plt\n",
    "import seaborn as sns\n",
    "single_type = 'stress'\n",
    "filtered = summary[summary['test_type'] == single_type]\n",
    "\n",
    "\n",
    "\n",
    "plt.figure(figsize=(10, 6))\n",
    "sns.barplot(data=filtered, x='test_name', y='ttft', hue='model')\n",
    "plt.title(f'Average TTFT for Each Model ({single_type})')\n",
    "plt.ylabel('TTFT')\n",
    "plt.xlabel('Test Name')\n",
    "plt.legend(title='Model')\n",
    "plt.tight_layout()\n",
    "plt.show()"
   ],
   "id": "b97bef970e8a50bc",
   "outputs": [
    {
     "data": {
      "text/plain": [
       "<Figure size 1000x600 with 1 Axes>"
      ],
      "image/png": "[encoded data removed]"
     },
     "metadata": {},
     "output_type": "display_data"
    }
   ],
   "execution_count": 9
  },
  {
   "metadata": {
    "ExecuteTime": {
     "end_time": "2025-07-27T15:12:52.686011Z",
     "start_time": "2025-07-27T15:12:52.620804Z"
    }
   },
   "cell_type": "code",
   "source": [
    "single_type = 'client'\n",
    "filtered = summary[summary['test_type'] == single_type]\n",
    "\n",
    "plt.figure(figsize=(10, 6))\n",
    "sns.barplot(data=filtered, x='test_name', y='latency', hue='model')\n",
    "plt.title(f'Average TTFT for Each Model ({single_type})')\n",
    "plt.ylabel('TTFT')\n",
    "plt.xlabel('Test Name')\n",
    "plt.legend(title='Model')\n",
    "\n",
    "plt.tight_layout()\n",
    "plt.show()\n",
    "\n",
    "\n",
    "\n"
   ],
   "id": "3450c86f59e2d1fc",
   "outputs": [
    {
     "data": {
      "text/plain": [
       "<Figure size 1000x600 with 1 Axes>"
      ],
      "image/png": "[encoded data removed]"
     },
     "metadata": {},
     "output_type": "display_data"
    }
   ],
   "execution_count": 10
  },
  {
   "metadata": {
    "ExecuteTime": {
     "end_time": "2025-07-27T15:13:03.117159Z",
     "start_time": "2025-07-27T15:13:02.507593Z"
    }
   },
   "cell_type": "code",
   "source": [
    "grouped = df.groupby(['model', 'test_name', 'test_type'])['ttft'].agg(['mean', 'std']).reset_index()\n",
    "\n",
    "import plotly.express as px\n",
    "\n",
    "fig = px.bar(\n",
    "    grouped[grouped['test_type'] == 'client'],\n",
    "    x='test_name', y='mean', color='model',\n",
    "    error_y='std', barmode='group',\n",
    "    title='TTFT with Error Bars (Interactive)'\n",
    ")\n",
    "fig.show()"
   ],
   "id": "36e82559db8ac9b9",
   "outputs": [
    {
     "data": {
      "application/vnd.plotly.v1+json": {
       "data": [
        {
         "alignmentgroup": "True",
         "error_y": {
          "array": {
           "dtype": "f8",
           "bdata": "SXVZ6xhbRUBmUXZuvggwQGGkiJLRrR9AAAAAAAAA+H8="
          }
         },
         "hovertemplate": "model=gemma3<br>test_name=%{x}<br>mean=%{y}<extra></extra>",
         "legendgroup": "gemma3",
         "marker": {
          "color": "#636efa",
          "pattern": {
           "shape": ""
          }
         },
         "name": "gemma3",
         "offsetgroup": "gemma3",
         "orientation": "v",
         "showlegend": true,
         "textposition": "auto",
         "x": [
          "batch",
          "chat",
          "single",
          "summarizer"
         ],
         "xaxis": "x",
         "y": {
          "dtype": "f8",
          "bdata": "2GK3z2p9QECndGFCkKQpQIZ5OUhZRAZACTauf9d1QkA="
         },
         "yaxis": "y",
         "type": "bar"
        },
        {
         "alignmentgroup": "True",
         "error_y": {
          "array": {
           "dtype": "f8",
           "bdata": "mORa9uNuuT9eRlZfrR6/P5T6IEKhcsc/AAAAAAAA+H8="
          }
         },
         "hovertemplate": "model=meta-llama<br>test_name=%{x}<br>mean=%{y}<extra></extra>",
         "legendgroup": "meta-llama",
         "marker": {
          "color": "#EF553B",
          "pattern": {
           "shape": ""
          }
         },
         "name": "meta-llama",
         "offsetgroup": "meta-llama",
         "orientation": "v",
         "showlegend": true,
         "textposition": "auto",
         "x": [
          "batch",
          "chat",
          "single",
          "summarizer"
         ],
         "xaxis": "x",
         "y": {
          "dtype": "f8",
          "bdata": "1owMchf9CkCvhNvH91IGQAJtLdAvLAZADTZ1HhU/CkA="
         },
         "yaxis": "y",
         "type": "bar"
        },
        {
         "alignmentgroup": "True",
         "error_y": {
          "array": {
           "dtype": "f8",
           "bdata": "T+oSt6zbtD8vCr67PLfJP04BvVfYwtw/AAAAAAAA+H8="
          }
         },
         "hovertemplate": "model=mistral<br>test_name=%{x}<br>mean=%{y}<extra></extra>",
         "legendgroup": "mistral",
         "marker": {
          "color": "#00cc96",
          "pattern": {
           "shape": ""
          }
         },
         "name": "mistral",
         "offsetgroup": "mistral",
         "orientation": "v",
         "showlegend": true,
         "textposition": "auto",
         "x": [
          "batch",
          "chat",
          "single",
          "summarizer"
         ],
         "xaxis": "x",
         "y": {
          "dtype": "f8",
          "bdata": "bK8FvTeWCUBElvJHPvwEQG0L1BlEJARA0UGXcOhNC0A="
         },
         "yaxis": "y",
         "type": "bar"
        }
       ],
       "layout": {
        "template": {
         "data": {
          "histogram2dcontour": [
           {
            "type": "histogram2dcontour",
            "colorbar": {
             "outlinewidth": 0,
             "ticks": ""
            },
            "colorscale": [
             [
              0.0,
              "#0d0887"
             ],
             [
              0.1111111111111111,
              "#46039f"
             ],
             [
              0.2222222222222222,
              "#7201a8"
             ],
             [
              0.3333333333333333,
              "#9c179e"
             ],
             [
              0.4444444444444444,
              "#bd3786"
             ],
             [
              0.5555555555555556,
              "#d8576b"
             ],
             [
              0.6666666666666666,
              "#ed7953"
             ],
             [
              0.7777777777777778,
              "#fb9f3a"
             ],
             [
              0.8888888888888888,
              "#fdca26"
             ],
             [
              1.0,
              "#f0f921"
             ]
            ]
           }
          ],
          "choropleth": [
           {
            "type": "choropleth",
            "colorbar": {
             "outlinewidth": 0,
             "ticks": ""
            }
           }
          ],
          "histogram2d": [
           {
            "type": "histogram2d",
            "colorbar": {
             "outlinewidth": 0,
             "ticks": ""
            },
            "colorscale": [
             [
              0.0,
              "#0d0887"
             ],
             [
              0.1111111111111111,
              "#46039f"
             ],
             [
              0.2222222222222222,
              "#7201a8"
             ],
             [
              0.3333333333333333,
              "#9c179e"
             ],
             [
              0.4444444444444444,
              "#bd3786"
             ],
             [
              0.5555555555555556,
              "#d8576b"
             ],
             [
              0.6666666666666666,
              "#ed7953"
             ],
             [
              0.7777777777777778,
              "#fb9f3a"
             ],
             [
              0.8888888888888888,
              "#fdca26"
             ],
             [
              1.0,
              "#f0f921"
             ]
            ]
           }
          ],
          "heatmap": [
           {
            "type": "heatmap",
            "colorbar": {
             "outlinewidth": 0,
             "ticks": ""
            },
            "colorscale": [
             [
              0.0,
              "#0d0887"
             ],
             [
              0.1111111111111111,
              "#46039f"
             ],
             [
              0.2222222222222222,
              "#7201a8"
             ],
             [
              0.3333333333333333,
              "#9c179e"
             ],
             [
              0.4444444444444444,
              "#bd3786"
             ],
             [
              0.5555555555555556,
              "#d8576b"
             ],
             [
              0.6666666666666666,
              "#ed7953"
             ],
             [
              0.7777777777777778,
              "#fb9f3a"
             ],
             [
              0.8888888888888888,
              "#fdca26"
             ],
             [
              1.0,
              "#f0f921"
             ]
            ]
           }
          ],
          "contourcarpet": [
           {
            "type": "contourcarpet",
            "colorbar": {
             "outlinewidth": 0,
             "ticks": ""
            }
           }
          ],
          "contour": [
           {
            "type": "contour",
            "colorbar": {
             "outlinewidth": 0,
             "ticks": ""
            },
            "colorscale": [
             [
              0.0,
              "#0d0887"
             ],
             [
              0.1111111111111111,
              "#46039f"
             ],
             [
              0.2222222222222222,
              "#7201a8"
             ],
             [
              0.3333333333333333,
              "#9c179e"
             ],
             [
              0.4444444444444444,
              "#bd3786"
             ],
             [
              0.5555555555555556,
              "#d8576b"
             ],
             [
              0.6666666666666666,
              "#ed7953"
             ],
             [
              0.7777777777777778,
              "#fb9f3a"
             ],
             [
              0.8888888888888888,
              "#fdca26"
             ],
             [
              1.0,
              "#f0f921"
             ]
            ]
           }
          ],
          "surface": [
           {
            "type": "surface",
            "colorbar": {
             "outlinewidth": 0,
             "ticks": ""
            },
            "colorscale": [
             [
              0.0,
              "#0d0887"
             ],
             [
              0.1111111111111111,
              "#46039f"
             ],
             [
              0.2222222222222222,
              "#7201a8"
             ],
             [
              0.3333333333333333,
              "#9c179e"
             ],
             [
              0.4444444444444444,
              "#bd3786"
             ],
             [
              0.5555555555555556,
              "#d8576b"
             ],
             [
              0.6666666666666666,
              "#ed7953"
             ],
             [
              0.7777777777777778,
              "#fb9f3a"
             ],
             [
              0.8888888888888888,
              "#fdca26"
             ],
             [
              1.0,
              "#f0f921"
             ]
            ]
           }
          ],
          "mesh3d": [
           {
            "type": "mesh3d",
            "colorbar": {
             "outlinewidth": 0,
             "ticks": ""
            }
           }
          ],
          "scatter": [
           {
            "marker": {
             "line": {
              "color": "#283442"
             }
            },
            "type": "scatter"
           }
          ],
          "parcoords": [
           {
            "type": "parcoords",
            "line": {
             "colorbar": {
              "outlinewidth": 0,
              "ticks": ""
             }
            }
           }
          ],
          "scatterpolargl": [
           {
            "type": "scatterpolargl",
            "marker": {
             "colorbar": {
              "outlinewidth": 0,
              "ticks": ""
             }
            }
           }
          ],
          "bar": [
           {
            "error_x": {
             "color": "#f2f5fa"
            },
            "error_y": {
             "color": "#f2f5fa"
            },
            "marker": {
             "line": {
              "color": "rgb(17,17,17)",
              "width": 0.5
             },
             "pattern": {
              "fillmode": "overlay",
              "size": 10,
              "solidity": 0.2
             }
            },
            "type": "bar"
           }
          ],
          "scattergeo": [
           {
            "type": "scattergeo",
            "marker": {
             "colorbar": {
              "outlinewidth": 0,
              "ticks": ""
             }
            }
           }
          ],
          "scatterpolar": [
           {
            "type": "scatterpolar",
            "marker": {
             "colorbar": {
              "outlinewidth": 0,
              "ticks": ""
             }
            }
           }
          ],
          "histogram": [
           {
            "marker": {
             "pattern": {
              "fillmode": "overlay",
              "size": 10,
              "solidity": 0.2
             }
            },
            "type": "histogram"
           }
          ],
          "scattergl": [
           {
            "marker": {
             "line": {
              "color": "#283442"
             }
            },
            "type": "scattergl"
           }
          ],
          "scatter3d": [
           {
            "type": "scatter3d",
            "line": {
             "colorbar": {
              "outlinewidth": 0,
              "ticks": ""
             }
            },
            "marker": {
             "colorbar": {
              "outlinewidth": 0,
              "ticks": ""
             }
            }
           }
          ],
          "scattermap": [
           {
            "type": "scattermap",
            "marker": {
             "colorbar": {
              "outlinewidth": 0,
              "ticks": ""
             }
            }
           }
          ],
          "scattermapbox": [
           {
            "type": "scattermapbox",
            "marker": {
             "colorbar": {
              "outlinewidth": 0,
              "ticks": ""
             }
            }
           }
          ],
          "scatterternary": [
           {
            "type": "scatterternary",
            "marker": {
             "colorbar": {
              "outlinewidth": 0,
              "ticks": ""
             }
            }
           }
          ],
          "scattercarpet": [
           {
            "type": "scattercarpet",
            "marker": {
             "colorbar": {
              "outlinewidth": 0,
              "ticks": ""
             }
            }
           }
          ],
          "carpet": [
           {
            "aaxis": {
             "endlinecolor": "#A2B1C6",
             "gridcolor": "#506784",
             "linecolor": "#506784",
             "minorgridcolor": "#506784",
             "startlinecolor": "#A2B1C6"
            },
            "baxis": {
             "endlinecolor": "#A2B1C6",
             "gridcolor": "#506784",
             "linecolor": "#506784",
             "minorgridcolor": "#506784",
             "startlinecolor": "#A2B1C6"
            },
            "type": "carpet"
           }
          ],
          "table": [
           {
            "cells": {
             "fill": {
              "color": "#506784"
             },
             "line": {
              "color": "rgb(17,17,17)"
             }
            },
            "header": {
             "fill": {
              "color": "#2a3f5f"
             },
             "line": {
              "color": "rgb(17,17,17)"
             }
            },
            "type": "table"
           }
          ],
          "barpolar": [
           {
            "marker": {
             "line": {
              "color": "rgb(17,17,17)",
              "width": 0.5
             },
             "pattern": {
              "fillmode": "overlay",
              "size": 10,
              "solidity": 0.2
             }
            },
            "type": "barpolar"
           }
          ],
          "pie": [
           {
            "automargin": true,
            "type": "pie"
           }
          ]
         },
         "layout": {
          "autotypenumbers": "strict",
          "colorway": [
           "#636efa",
           "#EF553B",
           "#00cc96",
           "#ab63fa",
           "#FFA15A",
           "#19d3f3",
           "#FF6692",
           "#B6E880",
           "#FF97FF",
           "#FECB52"
          ],
          "font": {
           "color": "#f2f5fa"
          },
          "hovermode": "closest",
          "hoverlabel": {
           "align": "left"
          },
          "paper_bgcolor": "rgb(17,17,17)",
          "plot_bgcolor": "rgb(17,17,17)",
          "polar": {
           "bgcolor": "rgb(17,17,17)",
           "angularaxis": {
            "gridcolor": "#506784",
            "linecolor": "#506784",
            "ticks": ""
           },
           "radialaxis": {
            "gridcolor": "#506784",
            "linecolor": "#506784",
            "ticks": ""
           }
          },
          "ternary": {
           "bgcolor": "rgb(17,17,17)",
           "aaxis": {
            "gridcolor": "#506784",
            "linecolor": "#506784",
            "ticks": ""
           },
           "baxis": {
            "gridcolor": "#506784",
            "linecolor": "#506784",
            "ticks": ""
           },
           "caxis": {
            "gridcolor": "#506784",
            "linecolor": "#506784",
            "ticks": ""
           }
          },
          "coloraxis": {
           "colorbar": {
            "outlinewidth": 0,
            "ticks": ""
           }
          },
          "colorscale": {
           "sequential": [
            [
             0.0,
             "#0d0887"
            ],
            [
             0.1111111111111111,
             "#46039f"
            ],
            [
             0.2222222222222222,
             "#7201a8"
            ],
            [
             0.3333333333333333,
             "#9c179e"
            ],
            [
             0.4444444444444444,
             "#bd3786"
            ],
            [
             0.5555555555555556,
             "#d8576b"
            ],
            [
             0.6666666666666666,
             "#ed7953"
            ],
            [
             0.7777777777777778,
             "#fb9f3a"
            ],
            [
             0.8888888888888888,
             "#fdca26"
            ],
            [
             1.0,
             "#f0f921"
            ]
           ],
           "sequentialminus": [
            [
             0.0,
             "#0d0887"
            ],
            [
             0.1111111111111111,
             "#46039f"
            ],
            [
             0.2222222222222222,
             "#7201a8"
            ],
            [
             0.3333333333333333,
             "#9c179e"
            ],
            [
             0.4444444444444444,
             "#bd3786"
            ],
            [
             0.5555555555555556,
             "#d8576b"
            ],
            [
             0.6666666666666666,
             "#ed7953"
            ],
            [
             0.7777777777777778,
             "#fb9f3a"
            ],
            [
             0.8888888888888888,
             "#fdca26"
            ],
            [
             1.0,
             "#f0f921"
            ]
           ],
           "diverging": [
            [
             0,
             "#8e0152"
            ],
            [
             0.1,
             "#c51b7d"
            ],
            [
             0.2,
             "#de77ae"
            ],
            [
             0.3,
             "#f1b6da"
            ],
            [
             0.4,
             "#fde0ef"
            ],
            [
             0.5,
             "#f7f7f7"
            ],
            [
             0.6,
             "#e6f5d0"
            ],
            [
             0.7,
             "#b8e186"
            ],
            [
             0.8,
             "#7fbc41"
            ],
            [
             0.9,
             "#4d9221"
            ],
            [
             1,
             "#276419"
            ]
           ]
          },
          "xaxis": {
           "gridcolor": "#283442",
           "linecolor": "#506784",
           "ticks": "",
           "title": {
            "standoff": 15
           },
           "zerolinecolor": "#283442",
           "automargin": true,
           "zerolinewidth": 2
          },
          "yaxis": {
           "gridcolor": "#283442",
           "linecolor": "#506784",
           "ticks": "",
           "title": {
            "standoff": 15
           },
           "zerolinecolor": "#283442",
           "automargin": true,
           "zerolinewidth": 2
          },
          "scene": {
           "xaxis": {
            "backgroundcolor": "rgb(17,17,17)",
            "gridcolor": "#506784",
            "linecolor": "#506784",
            "showbackground": true,
            "ticks": "",
            "zerolinecolor": "#C8D4E3",
            "gridwidth": 2
           },
           "yaxis": {
            "backgroundcolor": "rgb(17,17,17)",
            "gridcolor": "#506784",
            "linecolor": "#506784",
            "showbackground": true,
            "ticks": "",
            "zerolinecolor": "#C8D4E3",
            "gridwidth": 2
           },
           "zaxis": {
            "backgroundcolor": "rgb(17,17,17)",
            "gridcolor": "#506784",
            "linecolor": "#506784",
            "showbackground": true,
            "ticks": "",
            "zerolinecolor": "#C8D4E3",
            "gridwidth": 2
           }
          },
          "shapedefaults": {
           "line": {
            "color": "#f2f5fa"
           }
          },
          "annotationdefaults": {
           "arrowcolor": "#f2f5fa",
           "arrowhead": 0,
           "arrowwidth": 1
          },
          "geo": {
           "bgcolor": "rgb(17,17,17)",
           "landcolor": "rgb(17,17,17)",
           "subunitcolor": "#506784",
           "showland": true,
           "showlakes": true,
           "lakecolor": "rgb(17,17,17)"
          },
          "title": {
           "x": 0.05
          },
          "updatemenudefaults": {
           "bgcolor": "#506784",
           "borderwidth": 0
          },
          "sliderdefaults": {
           "bgcolor": "#C8D4E3",
           "borderwidth": 1,
           "bordercolor": "rgb(17,17,17)",
           "tickwidth": 0
          },
          "mapbox": {
           "style": "dark"
          }
         }
        },
        "xaxis": {
         "anchor": "y",
         "domain": [
          0.0,
          1.0
         ],
         "title": {
          "text": "test_name"
         }
        },
        "yaxis": {
         "anchor": "x",
         "domain": [
          0.0,
          1.0
         ],
         "title": {
          "text": "mean"
         }
        },
        "legend": {
         "title": {
          "text": "model"
         },
         "tracegroupgap": 0
        },
        "title": {
         "text": "TTFT with Error Bars (Interactive)"
        },
        "barmode": "group"
       },
       "config": {
        "plotlyServerURL": "https://plot.ly"
       }
      }
     },
     "metadata": {},
     "output_type": "display_data"
    }
   ],
   "execution_count": 11
  },
  {
   "metadata": {
    "ExecuteTime": {
     "end_time": "2025-07-27T15:18:22.729906Z",
     "start_time": "2025-07-27T15:18:22.639926Z"
    }
   },
   "cell_type": "code",
   "source": [
    "import numpy as np\n",
    "\n",
    "# Remove 'gemma3' and aggregate\n",
    "summary = df[~df['model'].str.contains('gemma3')].groupby(['model', 'test_name', 'test_type']).agg({\n",
    "    'ttft': 'mean',\n",
    "    'tpot': 'mean',\n",
    "    'tokens_per_sec': 'mean',\n",
    "    'latency': 'mean'\n",
    "}).reset_index()\n",
    "\n",
    "# Pivot with all expected test_type columns\n",
    "pivot = summary.pivot(index=['model', 'test_name'], columns='test_type', values=['ttft', 'tpot', 'tokens_per_sec', 'latency'])\n",
    "for metric in ['ttft', 'tpot', 'tokens_per_sec', 'latency']:\n",
    "    for ttype in ['client', 'stress']:\n",
    "        if ttype not in pivot[metric].columns:\n",
    "            pivot[metric][ttype] = np.nan\n",
    "pivot.columns = [f'{metric}_{ttype}' for metric, ttype in pivot.columns]\n",
    "pivot = pivot.reset_index()\n",
    "\n",
    "metrics = ['ttft', 'tpot', 'tokens_per_sec', 'latency']\n",
    "results = pivot[['model', 'test_name']].copy()\n",
    "\n",
    "for metric in metrics:\n",
    "    client = pivot[f'{metric}_client'].replace(0, 1e-6)\n",
    "    stress = pivot[f'{metric}_stress']\n",
    "    # Ratio: how many times is stress slower than client (i.e., client is faster)\n",
    "    ratio = stress / client\n",
    "    results[f'{metric}_ratio'] = ratio.round(2)\n",
    "\n",
    "from IPython.display import display\n",
    "display(results)\n",
    "import seaborn as sns\n",
    "import matplotlib.pyplot as plt\n",
    "\n",
    "plt.figure(figsize=(10,4))\n",
    "sns.barplot(data=results, x='test_name', y='ttft_ratio', hue='model')\n",
    "plt.ylabel('Stress/Client TTFT Ratio')\n",
    "plt.title('How many times is the smoke test faster than the stress test (TTFT)')\n",
    "plt.axhline(1, color='black', linewidth=1)\n",
    "plt.tight_layout()\n",
    "plt.show()\n"
   ],
   "id": "335861957a0162c9",
   "outputs": [
    {
     "data": {
      "text/plain": [
       "        model   test_name  ttft_ratio  tpot_ratio  tokens_per_sec_ratio  \\\n",
       "0  meta-llama       batch        7.14        7.38                  0.14   \n",
       "1  meta-llama        chat       61.80       17.94                  0.08   \n",
       "2  meta-llama      single       24.16       24.00                  0.06   \n",
       "3  meta-llama  summarizer       17.87       17.44                  0.08   \n",
       "4     mistral       batch        9.45       10.05                  0.11   \n",
       "5     mistral        chat       75.96       23.41                  0.06   \n",
       "6     mistral      single       26.60       28.13                  0.05   \n",
       "7     mistral  summarizer       22.36       22.57                  0.05   \n",
       "\n",
       "   latency_ratio  \n",
       "0           7.13  \n",
       "1          61.67  \n",
       "2          24.09  \n",
       "3          17.85  \n",
       "4           9.43  \n",
       "5          75.75  \n",
       "6          26.52  \n",
       "7          22.33  "
      ],
      "text/html": [
       "<div>\n",
       "<style scoped>\n",
       "    .dataframe tbody tr th:only-of-type {\n",
       "        vertical-align: middle;\n",
       "    }\n",
       "\n",
       "    .dataframe tbody tr th {\n",
       "        vertical-align: top;\n",
       "    }\n",
       "\n",
       "    .dataframe thead th {\n",
       "        text-align: right;\n",
       "    }\n",
       "</style>\n",
       "<table border=\"1\" class=\"dataframe\">\n",
       "  <thead>\n",
       "    <tr style=\"text-align: right;\">\n",
       "      <th></th>\n",
       "      <th>model</th>\n",
       "      <th>test_name</th>\n",
       "      <th>ttft_ratio</th>\n",
       "      <th>tpot_ratio</th>\n",
       "      <th>tokens_per_sec_ratio</th>\n",
       "      <th>latency_ratio</th>\n",
       "    </tr>\n",
       "  </thead>\n",
       "  <tbody>\n",
       "    <tr>\n",
       "      <th>0</th>\n",
       "      <td>meta-llama</td>\n",
       "      <td>batch</td>\n",
       "      <td>7.14</td>\n",
       "      <td>7.38</td>\n",
       "      <td>0.14</td>\n",
       "      <td>7.13</td>\n",
       "    </tr>\n",
       "    <tr>\n",
       "      <th>1</th>\n",
       "      <td>meta-llama</td>\n",
       "      <td>chat</td>\n",
       "      <td>61.80</td>\n",
       "      <td>17.94</td>\n",
       "      <td>0.08</td>\n",
       "      <td>61.67</td>\n",
       "    </tr>\n",
       "    <tr>\n",
       "      <th>2</th>\n",
       "      <td>meta-llama</td>\n",
       "      <td>single</td>\n",
       "      <td>24.16</td>\n",
       "      <td>24.00</td>\n",
       "      <td>0.06</td>\n",
       "      <td>24.09</td>\n",
       "    </tr>\n",
       "    <tr>\n",
       "      <th>3</th>\n",
       "      <td>meta-llama</td>\n",
       "      <td>summarizer</td>\n",
       "      <td>17.87</td>\n",
       "      <td>17.44</td>\n",
       "      <td>0.08</td>\n",
       "      <td>17.85</td>\n",
       "    </tr>\n",
       "    <tr>\n",
       "      <th>4</th>\n",
       "      <td>mistral</td>\n",
       "      <td>batch</td>\n",
       "      <td>9.45</td>\n",
       "      <td>10.05</td>\n",
       "      <td>0.11</td>\n",
       "      <td>9.43</td>\n",
       "    </tr>\n",
       "    <tr>\n",
       "      <th>5</th>\n",
       "      <td>mistral</td>\n",
       "      <td>chat</td>\n",
       "      <td>75.96</td>\n",
       "      <td>23.41</td>\n",
       "      <td>0.06</td>\n",
       "      <td>75.75</td>\n",
       "    </tr>\n",
       "    <tr>\n",
       "      <th>6</th>\n",
       "      <td>mistral</td>\n",
       "      <td>single</td>\n",
       "      <td>26.60</td>\n",
       "      <td>28.13</td>\n",
       "      <td>0.05</td>\n",
       "      <td>26.52</td>\n",
       "    </tr>\n",
       "    <tr>\n",
       "      <th>7</th>\n",
       "      <td>mistral</td>\n",
       "      <td>summarizer</td>\n",
       "      <td>22.36</td>\n",
       "      <td>22.57</td>\n",
       "      <td>0.05</td>\n",
       "      <td>22.33</td>\n",
       "    </tr>\n",
       "  </tbody>\n",
       "</table>\n",
       "</div>"
      ]
     },
     "metadata": {},
     "output_type": "display_data"
    },
    {
     "data": {
      "text/plain": [
       "<Figure size 1000x400 with 1 Axes>"
      ],
      "image/png": "[encoded data removed]"
     },
     "metadata": {},
     "output_type": "display_data"
    }
   ],
   "execution_count": 20
  },
  {
   "metadata": {
    "ExecuteTime": {
     "end_time": "2025-07-27T15:13:16.138264Z",
     "start_time": "2025-07-27T15:13:15.502227Z"
    }
   },
   "cell_type": "code",
   "source": [
    "# TIP TESTA\n",
    "# Vizualizacija: TTFT po modelima za oba tipa testiranja\n",
    "plt.figure(figsize=(8,5))\n",
    "sns.barplot(data=stress_summary, x='model', y='ttft', hue='test_name')\n",
    "plt.title('Prosječni TTFT po modelima i tipu testa')\n",
    "plt.ylabel('TTFT [ms]')\n",
    "plt.xlabel('Model')\n",
    "plt.legend(title='Tip testa')\n",
    "plt.tight_layout()\n",
    "plt.show()\n",
    "\n",
    "# Vizualizacija: tokens_per_sec po modelima i tipu testa\n",
    "plt.figure(figsize=(8,5))\n",
    "sns.barplot(data=summary, x='model', y='tokens_per_sec', hue='test_name')\n",
    "plt.title('Prosječan broj tokena u sekundi (tokens_per_sec)')\n",
    "plt.ylabel('Tokens / sec')\n",
    "plt.xlabel('Model')\n",
    "plt.legend(title='Tip testa')\n",
    "plt.tight_layout()\n",
    "plt.show()\n",
    "\n",
    "# Vizualizacija: tpot po modelima i tipu testa\n",
    "plt.figure(figsize=(8,5))\n",
    "sns.barplot(data=summary, x='model', y='tpot', hue='test_name')\n",
    "plt.title('Time per output token (tpot)')\n",
    "plt.ylabel('Tokens / sec')\n",
    "plt.xlabel('Model')\n",
    "plt.legend(title='Tip testa')\n",
    "plt.tight_layout()\n",
    "plt.show()\n",
    "\n",
    "# Vizualizacija: tpot po modelima i tipu testa\n",
    "plt.figure(figsize=(8,5))\n",
    "sns.barplot(data=summary, x='model', y='latency', hue='test_name')\n",
    "plt.title('Latencija (tpot)')\n",
    "plt.ylabel('sec')\n",
    "plt.xlabel('Model')\n",
    "plt.legend(title='Tip testa')\n",
    "plt.tight_layout()\n",
    "plt.show()\n",
    "\n",
    "# Vizualizacija: tokens_per_sec po modelima i tipu testa\n",
    "plt.figure(figsize=(8,5))\n",
    "sns.barplot(data=summary, x='model', y='tokens_per_sec', hue='test_name')\n",
    "plt.title('Prosječan broj tokena u sekundi (tokens_per_sec)')\n",
    "plt.ylabel('Tokens / sec')\n",
    "plt.xlabel('Model')\n",
    "plt.legend(title='Tip testa')\n",
    "plt.tight_layout()\n",
    "plt.show()\n",
    "\n",
    "# Vizualizacija: tpot po modelima i tipu testa\n",
    "plt.figure(figsize=(8,5))\n",
    "sns.barplot(data=summary, x='model', y='tpot', hue='test_name')\n",
    "plt.title('Time per output token (tpot)')\n",
    "plt.ylabel('Tokens / sec')\n",
    "plt.xlabel('Model')\n",
    "plt.legend(title='Tip testa')\n",
    "plt.tight_layout()\n",
    "plt.show()\n",
    "\n",
    "# Vizualizacija: tpot po modelima i tipu testa\n",
    "plt.figure(figsize=(8,5))\n",
    "sns.barplot(data=summary, x='model', y='latency', hue='test_name')\n",
    "plt.title('Latencija (tpot)')\n",
    "plt.ylabel('sec')\n",
    "plt.xlabel('Model')\n",
    "plt.legend(title='Tip testa')\n",
    "plt.tight_layout()\n",
    "plt.show()"
   ],
   "id": "3994bb323b246fb8",
   "outputs": [
    {
     "data": {
      "text/plain": [
       "<Figure size 800x500 with 1 Axes>"
      ],
      "image/png": "[encoded data removed]"
     },
     "metadata": {},
     "output_type": "display_data"
    },
    {
     "data": {
      "text/plain": [
       "<Figure size 800x500 with 1 Axes>"
      ],
      "image/png": "[encoded data removed]"
     },
     "metadata": {},
     "output_type": "display_data"
    },
    {
     "data": {
      "text/plain": [
       "<Figure size 800x500 with 1 Axes>"
      ],
      "image/png": "[encoded data removed]"
     },
     "metadata": {},
     "output_type": "display_data"
    },
    {
     "data": {
      "text/plain": [
       "<Figure size 800x500 with 1 Axes>"
      ],
      "image/png": "[encoded data removed]"
     },
     "metadata": {},
     "output_type": "display_data"
    },
    {
     "data": {
      "text/plain": [
       "<Figure size 800x500 with 1 Axes>"
      ],
      "image/png": "[encoded data removed]"
     },
     "metadata": {},
     "output_type": "display_data"
    },
    {
     "data": {
      "text/plain": [
       "<Figure size 800x500 with 1 Axes>"
      ],
      "image/png": "[encoded data removed]"
     },
     "metadata": {},
     "output_type": "display_data"
    },
    {
     "data": {
      "text/plain": [
       "<Figure size 800x500 with 1 Axes>"
      ],
      "image/png": "[encoded data removed]"
     },
     "metadata": {},
     "output_type": "display_data"
    }
   ],
   "execution_count": 13
  }
 ],
 "metadata": {
  "kernelspec": {
   "display_name": "Python 3",
   "language": "python",
   "name": "python3"
  },
  "language_info": {
   "codemirror_mode": {
    "name": "ipython",
    "version": 2
   },
   "file_extension": ".py",
   "mimetype": "text/x-python",
   "name": "python",
   "nbconvert_exporter": "python",
   "pygments_lexer": "ipython2",
   "version": "2.7.6"
  }
 },
 "nbformat": 4,
 "nbformat_minor": 5
}
